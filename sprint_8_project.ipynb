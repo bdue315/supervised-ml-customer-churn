{
 "cells": [
  {
   "cell_type": "markdown",
   "metadata": {},
   "source": [
    "Hello Bridget!\n",
    "\n",
    "I’m happy to review your project today.\n",
    "I will mark your mistakes and give you some hints how it is possible to fix them. We are getting ready for real job, where your team leader/senior colleague will do exactly the same. Don't worry and study with pleasure! \n",
    "\n",
    "Below you will find my comments - **please do not move, modify or delete them**.\n",
    "\n",
    "You can find my comments in green, yellow or red boxes like this:\n",
    "\n",
    "<div class=\"alert alert-block alert-success\">\n",
    "<b>Reviewer's comment</b> <a class=\"tocSkip\"></a>\n",
    "\n",
    "Success. Everything is done succesfully.\n",
    "</div>\n",
    "\n",
    "<div class=\"alert alert-block alert-warning\">\n",
    "<b>Reviewer's comment</b> <a class=\"tocSkip\"></a>\n",
    "\n",
    "Remarks. Some recommendations.\n",
    "</div>\n",
    "\n",
    "<div class=\"alert alert-block alert-danger\">\n",
    "\n",
    "<b>Reviewer's comment</b> <a class=\"tocSkip\"></a>\n",
    "\n",
    "Needs fixing. The block requires some corrections. Work can't be accepted with the red comments.\n",
    "</div>\n",
    "\n",
    "You can answer me by using this:\n",
    "\n",
    "<div class=\"alert alert-block alert-info\">\n",
    "<b>Student answer.</b> <a class=\"tocSkip\"></a>\n",
    "\n",
    "Text here.\n",
    "</div>"
   ]
  },
  {
   "cell_type": "markdown",
   "metadata": {},
   "source": [
    "# Sprint 8: Supervised Learning Project\n",
    "\n",
    "**Project Goal:** Using the Beta Bank customer datatset, build a model that will predict if a customer is going to leave the bank soon. Download, prepare, and examine the data to build and improve a classification model which must have an F1 score of 0.59 to pass. "
   ]
  },
  {
   "cell_type": "markdown",
   "metadata": {},
   "source": [
    "## Download and Prepare Dataset"
   ]
  },
  {
   "cell_type": "code",
   "execution_count": 28,
   "metadata": {},
   "outputs": [],
   "source": [
    "#Import libraries\n",
    "\n",
    "import pandas as pd\n",
    "from sklearn.preprocessing import OrdinalEncoder\n",
    "from sklearn.model_selection import train_test_split\n",
    "from sklearn.tree import DecisionTreeClassifier\n",
    "from sklearn.metrics import accuracy_score\n",
    "from sklearn.ensemble import RandomForestClassifier\n",
    "from sklearn.model_selection import GridSearchCV\n",
    "from sklearn.linear_model import LogisticRegression\n",
    "from sklearn.utils import shuffle\n",
    "from sklearn.metrics import f1_score\n",
    "from sklearn.metrics import roc_auc_score\n",
    "import seaborn as sns\n",
    "import matplotlib.pyplot as plt\n",
    "import plotly.express as px\n",
    "#from imblearn.over_sampling import SMOTE\n",
    "from sklearn.datasets import make_classification\n",
    "from sklearn.metrics import classification_report\n",
    "from sklearn.impute import SimpleImputer\n",
    "from sklearn.model_selection import GridSearchCV\n",
    "from sklearn.feature_selection import SelectFromModel\n",
    "from sklearn.ensemble import BaggingClassifier\n",
    "from sklearn.utils import resample\n",
    "from sklearn.preprocessing import StandardScaler"
   ]
  },
  {
   "cell_type": "markdown",
   "metadata": {},
   "source": [
    "### Download Data"
   ]
  },
  {
   "cell_type": "code",
   "execution_count": 29,
   "metadata": {},
   "outputs": [
    {
     "name": "stdout",
     "output_type": "stream",
     "text": [
      "<class 'pandas.core.frame.DataFrame'>\n",
      "RangeIndex: 10000 entries, 0 to 9999\n",
      "Data columns (total 14 columns):\n",
      " #   Column           Non-Null Count  Dtype  \n",
      "---  ------           --------------  -----  \n",
      " 0   RowNumber        10000 non-null  int64  \n",
      " 1   CustomerId       10000 non-null  int64  \n",
      " 2   Surname          10000 non-null  object \n",
      " 3   CreditScore      10000 non-null  int64  \n",
      " 4   Geography        10000 non-null  object \n",
      " 5   Gender           10000 non-null  object \n",
      " 6   Age              10000 non-null  int64  \n",
      " 7   Tenure           9091 non-null   float64\n",
      " 8   Balance          10000 non-null  float64\n",
      " 9   NumOfProducts    10000 non-null  int64  \n",
      " 10  HasCrCard        10000 non-null  int64  \n",
      " 11  IsActiveMember   10000 non-null  int64  \n",
      " 12  EstimatedSalary  10000 non-null  float64\n",
      " 13  Exited           10000 non-null  int64  \n",
      "dtypes: float64(3), int64(8), object(3)\n",
      "memory usage: 1.1+ MB\n"
     ]
    }
   ],
   "source": [
    "#Download data and review df info\n",
    "\n",
    "data = pd.read_csv(\"/datasets/Churn.csv\")\n",
    "\n",
    "data.info()"
   ]
  },
  {
   "cell_type": "markdown",
   "metadata": {},
   "source": [
    "### Review Data"
   ]
  },
  {
   "cell_type": "code",
   "execution_count": 30,
   "metadata": {},
   "outputs": [
    {
     "data": {
      "text/html": [
       "<div>\n",
       "<style scoped>\n",
       "    .dataframe tbody tr th:only-of-type {\n",
       "        vertical-align: middle;\n",
       "    }\n",
       "\n",
       "    .dataframe tbody tr th {\n",
       "        vertical-align: top;\n",
       "    }\n",
       "\n",
       "    .dataframe thead th {\n",
       "        text-align: right;\n",
       "    }\n",
       "</style>\n",
       "<table border=\"1\" class=\"dataframe\">\n",
       "  <thead>\n",
       "    <tr style=\"text-align: right;\">\n",
       "      <th></th>\n",
       "      <th>RowNumber</th>\n",
       "      <th>CustomerId</th>\n",
       "      <th>Surname</th>\n",
       "      <th>CreditScore</th>\n",
       "      <th>Geography</th>\n",
       "      <th>Gender</th>\n",
       "      <th>Age</th>\n",
       "      <th>Tenure</th>\n",
       "      <th>Balance</th>\n",
       "      <th>NumOfProducts</th>\n",
       "      <th>HasCrCard</th>\n",
       "      <th>IsActiveMember</th>\n",
       "      <th>EstimatedSalary</th>\n",
       "      <th>Exited</th>\n",
       "    </tr>\n",
       "  </thead>\n",
       "  <tbody>\n",
       "    <tr>\n",
       "      <th>1583</th>\n",
       "      <td>1584</td>\n",
       "      <td>15730394</td>\n",
       "      <td>Crowther</td>\n",
       "      <td>709</td>\n",
       "      <td>France</td>\n",
       "      <td>Female</td>\n",
       "      <td>43</td>\n",
       "      <td>8.0</td>\n",
       "      <td>0.00</td>\n",
       "      <td>2</td>\n",
       "      <td>0</td>\n",
       "      <td>0</td>\n",
       "      <td>168035.62</td>\n",
       "      <td>1</td>\n",
       "    </tr>\n",
       "    <tr>\n",
       "      <th>3945</th>\n",
       "      <td>3946</td>\n",
       "      <td>15652789</td>\n",
       "      <td>Hancock</td>\n",
       "      <td>657</td>\n",
       "      <td>Spain</td>\n",
       "      <td>Male</td>\n",
       "      <td>40</td>\n",
       "      <td>10.0</td>\n",
       "      <td>0.00</td>\n",
       "      <td>2</td>\n",
       "      <td>1</td>\n",
       "      <td>1</td>\n",
       "      <td>52990.70</td>\n",
       "      <td>0</td>\n",
       "    </tr>\n",
       "    <tr>\n",
       "      <th>4519</th>\n",
       "      <td>4520</td>\n",
       "      <td>15713769</td>\n",
       "      <td>Michelides</td>\n",
       "      <td>617</td>\n",
       "      <td>Spain</td>\n",
       "      <td>Male</td>\n",
       "      <td>38</td>\n",
       "      <td>7.0</td>\n",
       "      <td>0.00</td>\n",
       "      <td>1</td>\n",
       "      <td>1</td>\n",
       "      <td>1</td>\n",
       "      <td>27239.28</td>\n",
       "      <td>0</td>\n",
       "    </tr>\n",
       "    <tr>\n",
       "      <th>2834</th>\n",
       "      <td>2835</td>\n",
       "      <td>15649124</td>\n",
       "      <td>Fang</td>\n",
       "      <td>850</td>\n",
       "      <td>France</td>\n",
       "      <td>Male</td>\n",
       "      <td>30</td>\n",
       "      <td>NaN</td>\n",
       "      <td>121535.18</td>\n",
       "      <td>1</td>\n",
       "      <td>0</td>\n",
       "      <td>0</td>\n",
       "      <td>40313.47</td>\n",
       "      <td>0</td>\n",
       "    </tr>\n",
       "    <tr>\n",
       "      <th>2354</th>\n",
       "      <td>2355</td>\n",
       "      <td>15669342</td>\n",
       "      <td>Ferri</td>\n",
       "      <td>731</td>\n",
       "      <td>Germany</td>\n",
       "      <td>Male</td>\n",
       "      <td>35</td>\n",
       "      <td>2.0</td>\n",
       "      <td>127862.93</td>\n",
       "      <td>2</td>\n",
       "      <td>1</td>\n",
       "      <td>0</td>\n",
       "      <td>139083.70</td>\n",
       "      <td>0</td>\n",
       "    </tr>\n",
       "    <tr>\n",
       "      <th>3880</th>\n",
       "      <td>3881</td>\n",
       "      <td>15726945</td>\n",
       "      <td>Andreev</td>\n",
       "      <td>677</td>\n",
       "      <td>France</td>\n",
       "      <td>Female</td>\n",
       "      <td>72</td>\n",
       "      <td>8.0</td>\n",
       "      <td>0.00</td>\n",
       "      <td>2</td>\n",
       "      <td>1</td>\n",
       "      <td>1</td>\n",
       "      <td>153604.44</td>\n",
       "      <td>0</td>\n",
       "    </tr>\n",
       "    <tr>\n",
       "      <th>423</th>\n",
       "      <td>424</td>\n",
       "      <td>15622834</td>\n",
       "      <td>Stevenson</td>\n",
       "      <td>678</td>\n",
       "      <td>France</td>\n",
       "      <td>Female</td>\n",
       "      <td>35</td>\n",
       "      <td>4.0</td>\n",
       "      <td>0.00</td>\n",
       "      <td>1</td>\n",
       "      <td>1</td>\n",
       "      <td>0</td>\n",
       "      <td>125518.32</td>\n",
       "      <td>0</td>\n",
       "    </tr>\n",
       "    <tr>\n",
       "      <th>6212</th>\n",
       "      <td>6213</td>\n",
       "      <td>15638231</td>\n",
       "      <td>Chung</td>\n",
       "      <td>730</td>\n",
       "      <td>Spain</td>\n",
       "      <td>Female</td>\n",
       "      <td>62</td>\n",
       "      <td>2.0</td>\n",
       "      <td>0.00</td>\n",
       "      <td>2</td>\n",
       "      <td>1</td>\n",
       "      <td>1</td>\n",
       "      <td>162889.10</td>\n",
       "      <td>0</td>\n",
       "    </tr>\n",
       "    <tr>\n",
       "      <th>5737</th>\n",
       "      <td>5738</td>\n",
       "      <td>15575428</td>\n",
       "      <td>Mistry</td>\n",
       "      <td>682</td>\n",
       "      <td>Germany</td>\n",
       "      <td>Female</td>\n",
       "      <td>35</td>\n",
       "      <td>2.0</td>\n",
       "      <td>117438.92</td>\n",
       "      <td>2</td>\n",
       "      <td>1</td>\n",
       "      <td>1</td>\n",
       "      <td>16910.98</td>\n",
       "      <td>0</td>\n",
       "    </tr>\n",
       "    <tr>\n",
       "      <th>4807</th>\n",
       "      <td>4808</td>\n",
       "      <td>15753248</td>\n",
       "      <td>Tao</td>\n",
       "      <td>611</td>\n",
       "      <td>France</td>\n",
       "      <td>Male</td>\n",
       "      <td>28</td>\n",
       "      <td>2.0</td>\n",
       "      <td>0.00</td>\n",
       "      <td>2</td>\n",
       "      <td>0</td>\n",
       "      <td>0</td>\n",
       "      <td>25395.83</td>\n",
       "      <td>0</td>\n",
       "    </tr>\n",
       "  </tbody>\n",
       "</table>\n",
       "</div>"
      ],
      "text/plain": [
       "      RowNumber  CustomerId     Surname  CreditScore Geography  Gender  Age  \\\n",
       "1583       1584    15730394    Crowther          709    France  Female   43   \n",
       "3945       3946    15652789     Hancock          657     Spain    Male   40   \n",
       "4519       4520    15713769  Michelides          617     Spain    Male   38   \n",
       "2834       2835    15649124        Fang          850    France    Male   30   \n",
       "2354       2355    15669342       Ferri          731   Germany    Male   35   \n",
       "3880       3881    15726945     Andreev          677    France  Female   72   \n",
       "423         424    15622834   Stevenson          678    France  Female   35   \n",
       "6212       6213    15638231       Chung          730     Spain  Female   62   \n",
       "5737       5738    15575428      Mistry          682   Germany  Female   35   \n",
       "4807       4808    15753248         Tao          611    France    Male   28   \n",
       "\n",
       "      Tenure    Balance  NumOfProducts  HasCrCard  IsActiveMember  \\\n",
       "1583     8.0       0.00              2          0               0   \n",
       "3945    10.0       0.00              2          1               1   \n",
       "4519     7.0       0.00              1          1               1   \n",
       "2834     NaN  121535.18              1          0               0   \n",
       "2354     2.0  127862.93              2          1               0   \n",
       "3880     8.0       0.00              2          1               1   \n",
       "423      4.0       0.00              1          1               0   \n",
       "6212     2.0       0.00              2          1               1   \n",
       "5737     2.0  117438.92              2          1               1   \n",
       "4807     2.0       0.00              2          0               0   \n",
       "\n",
       "      EstimatedSalary  Exited  \n",
       "1583        168035.62       1  \n",
       "3945         52990.70       0  \n",
       "4519         27239.28       0  \n",
       "2834         40313.47       0  \n",
       "2354        139083.70       0  \n",
       "3880        153604.44       0  \n",
       "423         125518.32       0  \n",
       "6212        162889.10       0  \n",
       "5737         16910.98       0  \n",
       "4807         25395.83       0  "
      ]
     },
     "execution_count": 30,
     "metadata": {},
     "output_type": "execute_result"
    }
   ],
   "source": [
    "#Review a sample of the data\n",
    "\n",
    "data.sample(10)"
   ]
  },
  {
   "cell_type": "markdown",
   "metadata": {},
   "source": [
    "**Observations:** The target feature is the 'Exited' column, values are indicated by 0/False has not exited (customer remains at the bank) or 1/True that customer has exited."
   ]
  },
  {
   "cell_type": "markdown",
   "metadata": {},
   "source": [
    "### Prepare the data\n",
    "\n",
    "**Feature Preparation:**\n",
    "\n",
    "There are 3 columns that can be dropped which do not contribute classification information in the dataset and instead had unique values for each row/observation.\n",
    "\n",
    "There are 2 feature columns which must be converted from categorical into numerical\n",
    "\n",
    "Will use StandardScaler and check scores"
   ]
  },
  {
   "cell_type": "code",
   "execution_count": 31,
   "metadata": {},
   "outputs": [],
   "source": [
    "#Drop unnecessary columns that have unique values instead of classification data\n",
    "data = data.drop(columns=['RowNumber', 'CustomerId', 'Surname'])"
   ]
  },
  {
   "cell_type": "code",
   "execution_count": 32,
   "metadata": {},
   "outputs": [
    {
     "data": {
      "text/plain": [
       "CreditScore          0\n",
       "Geography            0\n",
       "Gender               0\n",
       "Age                  0\n",
       "Tenure             909\n",
       "Balance              0\n",
       "NumOfProducts        0\n",
       "HasCrCard            0\n",
       "IsActiveMember       0\n",
       "EstimatedSalary      0\n",
       "Exited               0\n",
       "dtype: int64"
      ]
     },
     "execution_count": 32,
     "metadata": {},
     "output_type": "execute_result"
    }
   ],
   "source": [
    "#Check for missing values\n",
    "data.isna().sum()"
   ]
  },
  {
   "cell_type": "code",
   "execution_count": 33,
   "metadata": {},
   "outputs": [
    {
     "data": {
      "text/plain": [
       "CreditScore        0\n",
       "Geography          0\n",
       "Gender             0\n",
       "Age                0\n",
       "Tenure             0\n",
       "Balance            0\n",
       "NumOfProducts      0\n",
       "HasCrCard          0\n",
       "IsActiveMember     0\n",
       "EstimatedSalary    0\n",
       "Exited             0\n",
       "dtype: int64"
      ]
     },
     "execution_count": 33,
     "metadata": {},
     "output_type": "execute_result"
    }
   ],
   "source": [
    "#Fill missing values with median since tenure is ordinal data\n",
    "median = data['Tenure'].median()\n",
    "data['Tenure'] = data['Tenure'].fillna(median)\n",
    "\n",
    "data.isna().sum()"
   ]
  },
  {
   "cell_type": "markdown",
   "metadata": {},
   "source": [
    "<div class=\"alert alert-block alert-warning\">\n",
    "<b>Reviewer's comment</b> <a class=\"tocSkip\"></a>\n",
    "\n",
    "Median is okay. But if you read the description of the Tenure feature you can come up with better constant than median.\n",
    "\n",
    "</div>"
   ]
  },
  {
   "cell_type": "markdown",
   "metadata": {},
   "source": [
    "<div class=\"alert alert-block alert-info\">\n",
    "<b>Student answer.</b> <a class=\"tocSkip\"></a>\n",
    "\n",
    "Thank you I read the description and thought mode would be a better choice and than ran into so many issues using it. Then I met with a tutor and they said median or average and recommended since your comment was yellow and not red that I should leave it as median.\n",
    "</div>"
   ]
  },
  {
   "cell_type": "markdown",
   "metadata": {},
   "source": [
    "<div class=\"alert alert-block alert-info\">\n",
    "<b>Reviewer's comment V2</b> <a class=\"tocSkip\"></a>\n",
    "\n",
    "Yeah, you can leave median. But I meant not mode but just 0. Just think a bit what can mean NaN in Tenure.\n",
    "\n",
    "</div>"
   ]
  },
  {
   "cell_type": "code",
   "execution_count": 34,
   "metadata": {},
   "outputs": [
    {
     "name": "stdout",
     "output_type": "stream",
     "text": [
      "Geography Feature Unique Values: ['France' 'Spain' 'Germany']\n",
      "Gender Feature Unique Values: ['Female' 'Male']\n"
     ]
    }
   ],
   "source": [
    "#Transform categorical features into numerical ['Geography', 'Gender']\n",
    "#Check the unique values for each feature and their order\n",
    "print(\"Geography Feature Unique Values:\", data['Geography'].unique())\n",
    "print(\"Gender Feature Unique Values:\", data['Gender'].unique())"
   ]
  },
  {
   "cell_type": "markdown",
   "metadata": {},
   "source": [
    "**Observations:** \n",
    "\n",
    "'Gender': 'Female'=0 'Male'=1\n",
    "\n",
    "'Geography': 'France'=0, 'Spain'=1, 'Germany'=2"
   ]
  },
  {
   "cell_type": "code",
   "execution_count": 35,
   "metadata": {
    "scrolled": true
   },
   "outputs": [
    {
     "name": "stdout",
     "output_type": "stream",
     "text": [
      "<class 'pandas.core.frame.DataFrame'>\n",
      "RangeIndex: 10000 entries, 0 to 9999\n",
      "Data columns (total 11 columns):\n",
      " #   Column           Non-Null Count  Dtype  \n",
      "---  ------           --------------  -----  \n",
      " 0   CreditScore      10000 non-null  int64  \n",
      " 1   Geography        10000 non-null  object \n",
      " 2   Gender           10000 non-null  uint8  \n",
      " 3   Age              10000 non-null  int64  \n",
      " 4   Tenure           10000 non-null  float64\n",
      " 5   Balance          10000 non-null  float64\n",
      " 6   NumOfProducts    10000 non-null  int64  \n",
      " 7   HasCrCard        10000 non-null  int64  \n",
      " 8   IsActiveMember   10000 non-null  int64  \n",
      " 9   EstimatedSalary  10000 non-null  float64\n",
      " 10  Exited           10000 non-null  int64  \n",
      "dtypes: float64(3), int64(6), object(1), uint8(1)\n",
      "memory usage: 791.1+ KB\n",
      "None\n"
     ]
    },
    {
     "data": {
      "text/html": [
       "<div>\n",
       "<style scoped>\n",
       "    .dataframe tbody tr th:only-of-type {\n",
       "        vertical-align: middle;\n",
       "    }\n",
       "\n",
       "    .dataframe tbody tr th {\n",
       "        vertical-align: top;\n",
       "    }\n",
       "\n",
       "    .dataframe thead th {\n",
       "        text-align: right;\n",
       "    }\n",
       "</style>\n",
       "<table border=\"1\" class=\"dataframe\">\n",
       "  <thead>\n",
       "    <tr style=\"text-align: right;\">\n",
       "      <th></th>\n",
       "      <th>CreditScore</th>\n",
       "      <th>Geography</th>\n",
       "      <th>Gender</th>\n",
       "      <th>Age</th>\n",
       "      <th>Tenure</th>\n",
       "      <th>Balance</th>\n",
       "      <th>NumOfProducts</th>\n",
       "      <th>HasCrCard</th>\n",
       "      <th>IsActiveMember</th>\n",
       "      <th>EstimatedSalary</th>\n",
       "      <th>Exited</th>\n",
       "    </tr>\n",
       "  </thead>\n",
       "  <tbody>\n",
       "    <tr>\n",
       "      <th>0</th>\n",
       "      <td>619</td>\n",
       "      <td>France</td>\n",
       "      <td>0</td>\n",
       "      <td>42</td>\n",
       "      <td>2.0</td>\n",
       "      <td>0.00</td>\n",
       "      <td>1</td>\n",
       "      <td>1</td>\n",
       "      <td>1</td>\n",
       "      <td>101348.88</td>\n",
       "      <td>1</td>\n",
       "    </tr>\n",
       "    <tr>\n",
       "      <th>1</th>\n",
       "      <td>608</td>\n",
       "      <td>Spain</td>\n",
       "      <td>0</td>\n",
       "      <td>41</td>\n",
       "      <td>1.0</td>\n",
       "      <td>83807.86</td>\n",
       "      <td>1</td>\n",
       "      <td>0</td>\n",
       "      <td>1</td>\n",
       "      <td>112542.58</td>\n",
       "      <td>0</td>\n",
       "    </tr>\n",
       "    <tr>\n",
       "      <th>2</th>\n",
       "      <td>502</td>\n",
       "      <td>France</td>\n",
       "      <td>0</td>\n",
       "      <td>42</td>\n",
       "      <td>8.0</td>\n",
       "      <td>159660.80</td>\n",
       "      <td>3</td>\n",
       "      <td>1</td>\n",
       "      <td>0</td>\n",
       "      <td>113931.57</td>\n",
       "      <td>1</td>\n",
       "    </tr>\n",
       "    <tr>\n",
       "      <th>3</th>\n",
       "      <td>699</td>\n",
       "      <td>France</td>\n",
       "      <td>0</td>\n",
       "      <td>39</td>\n",
       "      <td>1.0</td>\n",
       "      <td>0.00</td>\n",
       "      <td>2</td>\n",
       "      <td>0</td>\n",
       "      <td>0</td>\n",
       "      <td>93826.63</td>\n",
       "      <td>0</td>\n",
       "    </tr>\n",
       "    <tr>\n",
       "      <th>4</th>\n",
       "      <td>850</td>\n",
       "      <td>Spain</td>\n",
       "      <td>0</td>\n",
       "      <td>43</td>\n",
       "      <td>2.0</td>\n",
       "      <td>125510.82</td>\n",
       "      <td>1</td>\n",
       "      <td>1</td>\n",
       "      <td>1</td>\n",
       "      <td>79084.10</td>\n",
       "      <td>0</td>\n",
       "    </tr>\n",
       "    <tr>\n",
       "      <th>5</th>\n",
       "      <td>645</td>\n",
       "      <td>Spain</td>\n",
       "      <td>1</td>\n",
       "      <td>44</td>\n",
       "      <td>8.0</td>\n",
       "      <td>113755.78</td>\n",
       "      <td>2</td>\n",
       "      <td>1</td>\n",
       "      <td>0</td>\n",
       "      <td>149756.71</td>\n",
       "      <td>1</td>\n",
       "    </tr>\n",
       "    <tr>\n",
       "      <th>6</th>\n",
       "      <td>822</td>\n",
       "      <td>France</td>\n",
       "      <td>1</td>\n",
       "      <td>50</td>\n",
       "      <td>7.0</td>\n",
       "      <td>0.00</td>\n",
       "      <td>2</td>\n",
       "      <td>1</td>\n",
       "      <td>1</td>\n",
       "      <td>10062.80</td>\n",
       "      <td>0</td>\n",
       "    </tr>\n",
       "    <tr>\n",
       "      <th>7</th>\n",
       "      <td>376</td>\n",
       "      <td>Germany</td>\n",
       "      <td>0</td>\n",
       "      <td>29</td>\n",
       "      <td>4.0</td>\n",
       "      <td>115046.74</td>\n",
       "      <td>4</td>\n",
       "      <td>1</td>\n",
       "      <td>0</td>\n",
       "      <td>119346.88</td>\n",
       "      <td>1</td>\n",
       "    </tr>\n",
       "    <tr>\n",
       "      <th>8</th>\n",
       "      <td>501</td>\n",
       "      <td>France</td>\n",
       "      <td>1</td>\n",
       "      <td>44</td>\n",
       "      <td>4.0</td>\n",
       "      <td>142051.07</td>\n",
       "      <td>2</td>\n",
       "      <td>0</td>\n",
       "      <td>1</td>\n",
       "      <td>74940.50</td>\n",
       "      <td>0</td>\n",
       "    </tr>\n",
       "    <tr>\n",
       "      <th>9</th>\n",
       "      <td>684</td>\n",
       "      <td>France</td>\n",
       "      <td>1</td>\n",
       "      <td>27</td>\n",
       "      <td>2.0</td>\n",
       "      <td>134603.88</td>\n",
       "      <td>1</td>\n",
       "      <td>1</td>\n",
       "      <td>1</td>\n",
       "      <td>71725.73</td>\n",
       "      <td>0</td>\n",
       "    </tr>\n",
       "  </tbody>\n",
       "</table>\n",
       "</div>"
      ],
      "text/plain": [
       "   CreditScore Geography  Gender  Age  Tenure    Balance  NumOfProducts  \\\n",
       "0          619    France       0   42     2.0       0.00              1   \n",
       "1          608     Spain       0   41     1.0   83807.86              1   \n",
       "2          502    France       0   42     8.0  159660.80              3   \n",
       "3          699    France       0   39     1.0       0.00              2   \n",
       "4          850     Spain       0   43     2.0  125510.82              1   \n",
       "5          645     Spain       1   44     8.0  113755.78              2   \n",
       "6          822    France       1   50     7.0       0.00              2   \n",
       "7          376   Germany       0   29     4.0  115046.74              4   \n",
       "8          501    France       1   44     4.0  142051.07              2   \n",
       "9          684    France       1   27     2.0  134603.88              1   \n",
       "\n",
       "   HasCrCard  IsActiveMember  EstimatedSalary  Exited  \n",
       "0          1               1        101348.88       1  \n",
       "1          0               1        112542.58       0  \n",
       "2          1               0        113931.57       1  \n",
       "3          0               0         93826.63       0  \n",
       "4          1               1         79084.10       0  \n",
       "5          1               0        149756.71       1  \n",
       "6          1               1         10062.80       0  \n",
       "7          1               0        119346.88       1  \n",
       "8          0               1         74940.50       0  \n",
       "9          1               1         71725.73       0  "
      ]
     },
     "execution_count": 35,
     "metadata": {},
     "output_type": "execute_result"
    }
   ],
   "source": [
    "#Use get_dummies for 'Gender' feature because it only has 2 unique values\n",
    "data['Gender'] = pd.get_dummies(data['Gender'], drop_first=True)\n",
    "\n",
    "print(data.info())\n",
    "data.head(10)"
   ]
  },
  {
   "cell_type": "code",
   "execution_count": 36,
   "metadata": {},
   "outputs": [
    {
     "name": "stdout",
     "output_type": "stream",
     "text": [
      "<class 'pandas.core.frame.DataFrame'>\n",
      "RangeIndex: 10000 entries, 0 to 9999\n",
      "Data columns (total 11 columns):\n",
      " #   Column           Non-Null Count  Dtype  \n",
      "---  ------           --------------  -----  \n",
      " 0   CreditScore      10000 non-null  int64  \n",
      " 1   Geography        10000 non-null  float64\n",
      " 2   Gender           10000 non-null  uint8  \n",
      " 3   Age              10000 non-null  int64  \n",
      " 4   Tenure           10000 non-null  float64\n",
      " 5   Balance          10000 non-null  float64\n",
      " 6   NumOfProducts    10000 non-null  int64  \n",
      " 7   HasCrCard        10000 non-null  int64  \n",
      " 8   IsActiveMember   10000 non-null  int64  \n",
      " 9   EstimatedSalary  10000 non-null  float64\n",
      " 10  Exited           10000 non-null  int64  \n",
      "dtypes: float64(4), int64(6), uint8(1)\n",
      "memory usage: 791.1 KB\n",
      "None\n"
     ]
    },
    {
     "data": {
      "text/html": [
       "<div>\n",
       "<style scoped>\n",
       "    .dataframe tbody tr th:only-of-type {\n",
       "        vertical-align: middle;\n",
       "    }\n",
       "\n",
       "    .dataframe tbody tr th {\n",
       "        vertical-align: top;\n",
       "    }\n",
       "\n",
       "    .dataframe thead th {\n",
       "        text-align: right;\n",
       "    }\n",
       "</style>\n",
       "<table border=\"1\" class=\"dataframe\">\n",
       "  <thead>\n",
       "    <tr style=\"text-align: right;\">\n",
       "      <th></th>\n",
       "      <th>CreditScore</th>\n",
       "      <th>Geography</th>\n",
       "      <th>Gender</th>\n",
       "      <th>Age</th>\n",
       "      <th>Tenure</th>\n",
       "      <th>Balance</th>\n",
       "      <th>NumOfProducts</th>\n",
       "      <th>HasCrCard</th>\n",
       "      <th>IsActiveMember</th>\n",
       "      <th>EstimatedSalary</th>\n",
       "      <th>Exited</th>\n",
       "    </tr>\n",
       "  </thead>\n",
       "  <tbody>\n",
       "    <tr>\n",
       "      <th>0</th>\n",
       "      <td>619</td>\n",
       "      <td>0.0</td>\n",
       "      <td>0</td>\n",
       "      <td>42</td>\n",
       "      <td>2.0</td>\n",
       "      <td>0.00</td>\n",
       "      <td>1</td>\n",
       "      <td>1</td>\n",
       "      <td>1</td>\n",
       "      <td>101348.88</td>\n",
       "      <td>1</td>\n",
       "    </tr>\n",
       "    <tr>\n",
       "      <th>1</th>\n",
       "      <td>608</td>\n",
       "      <td>2.0</td>\n",
       "      <td>0</td>\n",
       "      <td>41</td>\n",
       "      <td>1.0</td>\n",
       "      <td>83807.86</td>\n",
       "      <td>1</td>\n",
       "      <td>0</td>\n",
       "      <td>1</td>\n",
       "      <td>112542.58</td>\n",
       "      <td>0</td>\n",
       "    </tr>\n",
       "    <tr>\n",
       "      <th>2</th>\n",
       "      <td>502</td>\n",
       "      <td>0.0</td>\n",
       "      <td>0</td>\n",
       "      <td>42</td>\n",
       "      <td>8.0</td>\n",
       "      <td>159660.80</td>\n",
       "      <td>3</td>\n",
       "      <td>1</td>\n",
       "      <td>0</td>\n",
       "      <td>113931.57</td>\n",
       "      <td>1</td>\n",
       "    </tr>\n",
       "    <tr>\n",
       "      <th>3</th>\n",
       "      <td>699</td>\n",
       "      <td>0.0</td>\n",
       "      <td>0</td>\n",
       "      <td>39</td>\n",
       "      <td>1.0</td>\n",
       "      <td>0.00</td>\n",
       "      <td>2</td>\n",
       "      <td>0</td>\n",
       "      <td>0</td>\n",
       "      <td>93826.63</td>\n",
       "      <td>0</td>\n",
       "    </tr>\n",
       "    <tr>\n",
       "      <th>4</th>\n",
       "      <td>850</td>\n",
       "      <td>2.0</td>\n",
       "      <td>0</td>\n",
       "      <td>43</td>\n",
       "      <td>2.0</td>\n",
       "      <td>125510.82</td>\n",
       "      <td>1</td>\n",
       "      <td>1</td>\n",
       "      <td>1</td>\n",
       "      <td>79084.10</td>\n",
       "      <td>0</td>\n",
       "    </tr>\n",
       "    <tr>\n",
       "      <th>5</th>\n",
       "      <td>645</td>\n",
       "      <td>2.0</td>\n",
       "      <td>1</td>\n",
       "      <td>44</td>\n",
       "      <td>8.0</td>\n",
       "      <td>113755.78</td>\n",
       "      <td>2</td>\n",
       "      <td>1</td>\n",
       "      <td>0</td>\n",
       "      <td>149756.71</td>\n",
       "      <td>1</td>\n",
       "    </tr>\n",
       "    <tr>\n",
       "      <th>6</th>\n",
       "      <td>822</td>\n",
       "      <td>0.0</td>\n",
       "      <td>1</td>\n",
       "      <td>50</td>\n",
       "      <td>7.0</td>\n",
       "      <td>0.00</td>\n",
       "      <td>2</td>\n",
       "      <td>1</td>\n",
       "      <td>1</td>\n",
       "      <td>10062.80</td>\n",
       "      <td>0</td>\n",
       "    </tr>\n",
       "    <tr>\n",
       "      <th>7</th>\n",
       "      <td>376</td>\n",
       "      <td>1.0</td>\n",
       "      <td>0</td>\n",
       "      <td>29</td>\n",
       "      <td>4.0</td>\n",
       "      <td>115046.74</td>\n",
       "      <td>4</td>\n",
       "      <td>1</td>\n",
       "      <td>0</td>\n",
       "      <td>119346.88</td>\n",
       "      <td>1</td>\n",
       "    </tr>\n",
       "    <tr>\n",
       "      <th>8</th>\n",
       "      <td>501</td>\n",
       "      <td>0.0</td>\n",
       "      <td>1</td>\n",
       "      <td>44</td>\n",
       "      <td>4.0</td>\n",
       "      <td>142051.07</td>\n",
       "      <td>2</td>\n",
       "      <td>0</td>\n",
       "      <td>1</td>\n",
       "      <td>74940.50</td>\n",
       "      <td>0</td>\n",
       "    </tr>\n",
       "    <tr>\n",
       "      <th>9</th>\n",
       "      <td>684</td>\n",
       "      <td>0.0</td>\n",
       "      <td>1</td>\n",
       "      <td>27</td>\n",
       "      <td>2.0</td>\n",
       "      <td>134603.88</td>\n",
       "      <td>1</td>\n",
       "      <td>1</td>\n",
       "      <td>1</td>\n",
       "      <td>71725.73</td>\n",
       "      <td>0</td>\n",
       "    </tr>\n",
       "  </tbody>\n",
       "</table>\n",
       "</div>"
      ],
      "text/plain": [
       "   CreditScore  Geography  Gender  Age  Tenure    Balance  NumOfProducts  \\\n",
       "0          619        0.0       0   42     2.0       0.00              1   \n",
       "1          608        2.0       0   41     1.0   83807.86              1   \n",
       "2          502        0.0       0   42     8.0  159660.80              3   \n",
       "3          699        0.0       0   39     1.0       0.00              2   \n",
       "4          850        2.0       0   43     2.0  125510.82              1   \n",
       "5          645        2.0       1   44     8.0  113755.78              2   \n",
       "6          822        0.0       1   50     7.0       0.00              2   \n",
       "7          376        1.0       0   29     4.0  115046.74              4   \n",
       "8          501        0.0       1   44     4.0  142051.07              2   \n",
       "9          684        0.0       1   27     2.0  134603.88              1   \n",
       "\n",
       "   HasCrCard  IsActiveMember  EstimatedSalary  Exited  \n",
       "0          1               1        101348.88       1  \n",
       "1          0               1        112542.58       0  \n",
       "2          1               0        113931.57       1  \n",
       "3          0               0         93826.63       0  \n",
       "4          1               1         79084.10       0  \n",
       "5          1               0        149756.71       1  \n",
       "6          1               1         10062.80       0  \n",
       "7          1               0        119346.88       1  \n",
       "8          0               1         74940.50       0  \n",
       "9          1               1         71725.73       0  "
      ]
     },
     "execution_count": 36,
     "metadata": {},
     "output_type": "execute_result"
    }
   ],
   "source": [
    "#Use Label Encoding on 'Geography' because it has 3 unique values\n",
    "categorical_column = data.select_dtypes(include=['object']).columns\n",
    "   \n",
    "encoder = OrdinalEncoder()\n",
    "data[categorical_column] = encoder.fit_transform(data[categorical_column])\n",
    "\n",
    "#Review the transformed values\n",
    "print(data.info())\n",
    "data.head(10)"
   ]
  },
  {
   "cell_type": "markdown",
   "metadata": {},
   "source": [
    "<div class=\"alert alert-block alert-warning\">\n",
    "<b>Reviewer's comment</b> <a class=\"tocSkip\"></a>\n",
    "\n",
    "Actually LabelEncoding overwrites the result of get_dummies with the same result. So, the part with get_dummies does nothing here at all and can be removed.\n",
    "\n",
    "</div>"
   ]
  },
  {
   "cell_type": "markdown",
   "metadata": {},
   "source": [
    "<div class=\"alert alert-block alert-info\">\n",
    "<b>Student answer.</b> <a class=\"tocSkip\"></a>\n",
    "\n",
    "First I used get_dummies for the 'Gender' feature then LabelEncoding for 'Geography'. Since the get_dummies code is first and changes that datatype to uint8, how does LabelEncoding code affect the latter if it looks for object data type? So because of that I'm unsure what to change because I thought that's how the code is working.\n",
    "</div>"
   ]
  },
  {
   "cell_type": "markdown",
   "metadata": {},
   "source": [
    "<div class=\"alert alert-block alert-info\">\n",
    "<b>Reviewer's comment V2</b> <a class=\"tocSkip\"></a>\n",
    "\n",
    "Yeah, you're right, sorry. But the function get_dummies with drop_first=True for binary features creates a column with 0 and 1, right? OrdinalEncoder does absolutely the same for binary feature.\n",
    "\n",
    "</div>"
   ]
  },
  {
   "cell_type": "code",
   "execution_count": 37,
   "metadata": {},
   "outputs": [
    {
     "name": "stdout",
     "output_type": "stream",
     "text": [
      "0    7963\n",
      "1    2037\n",
      "Name: Exited, dtype: int64\n"
     ]
    }
   ],
   "source": [
    "#Check balance of target data\n",
    "\n",
    "print(data['Exited'].value_counts())"
   ]
  },
  {
   "cell_type": "markdown",
   "metadata": {},
   "source": [
    "**Observations:**\n",
    "\n",
    "Target data is imbalanced in favor 0/False clients that have not exited (remain at the bank)."
   ]
  },
  {
   "cell_type": "markdown",
   "metadata": {},
   "source": [
    "## Exploratory Data Analysis"
   ]
  },
  {
   "cell_type": "code",
   "execution_count": 38,
   "metadata": {},
   "outputs": [
    {
     "data": {
      "text/plain": [
       "<AxesSubplot:>"
      ]
     },
     "execution_count": 38,
     "metadata": {},
     "output_type": "execute_result"
    },
    {
     "data": {
      "image/png": "[encoded data removed]",
      "text/plain": [
       "<Figure size 1500x500 with 2 Axes>"
      ]
     },
     "metadata": {},
     "output_type": "display_data"
    }
   ],
   "source": [
    "#Looking for highly correlated features that could distrupt model training\n",
    "\n",
    "plt.figure(figsize=(15,5))\n",
    "sns.heatmap(data.iloc[:, :-1].corr(), annot=True)"
   ]
  },
  {
   "cell_type": "markdown",
   "metadata": {},
   "source": [
    "**Observations:** There doesn't appear to be any highly correlated features."
   ]
  },
  {
   "cell_type": "markdown",
   "metadata": {},
   "source": [
    "## Split the Source Data"
   ]
  },
  {
   "cell_type": "code",
   "execution_count": 39,
   "metadata": {},
   "outputs": [
    {
     "name": "stdout",
     "output_type": "stream",
     "text": [
      "Training dataset:  (6000, 11)\n",
      "Testing dataset:  (2000, 11)\n",
      "Validation dataset:  (2000, 11)\n"
     ]
    }
   ],
   "source": [
    "#First use train_test_split to create 2 df's, one is test, the other is temp df to split further into train and validation\n",
    "df_temp, df_test = train_test_split(data, test_size=0.20, random_state=315)\n",
    "\n",
    "#Then use the temp df from first function to create 2 more df's, train and validation\n",
    "df_train, df_valid = train_test_split(df_temp, test_size=0.25, random_state=315)\n",
    "\n",
    "#Verify the datasets\n",
    "print(\"Training dataset: \", df_train.shape)\n",
    "print(\"Testing dataset: \", df_test.shape)\n",
    "print(\"Validation dataset: \", df_valid.shape)"
   ]
  },
  {
   "cell_type": "code",
   "execution_count": 40,
   "metadata": {},
   "outputs": [],
   "source": [
    "#Create feature and target datasets for each\n",
    "\n",
    "#Train datasets\n",
    "features_train = df_train.drop(['Exited'], axis=1)\n",
    "target_train = df_train['Exited']\n",
    "\n",
    "#Validation datasets\n",
    "features_valid = df_valid.drop(['Exited'], axis=1)\n",
    "target_valid = df_valid['Exited']\n",
    "\n",
    "#Test datasets\n",
    "features_test = df_test.drop(['Exited'], axis=1)\n",
    "target_test = df_test['Exited']"
   ]
  },
  {
   "cell_type": "code",
   "execution_count": 41,
   "metadata": {},
   "outputs": [],
   "source": [
    "#Scale the datasets\n",
    "#Initialize scaler\n",
    "scaler = StandardScaler()\n",
    "\n",
    "# Fit on the training data\n",
    "features_train_scaled = scaler.fit_transform(features_train)\n",
    "\n",
    "# Transform the datasets\n",
    "features_valid_scaled = scaler.transform(features_valid)\n",
    "features_test_scaled = scaler.transform(features_test)\n",
    "\n",
    "# Convert the scaled numpy arrays back to DataFrames\n",
    "#features_train_scaled = pd.DataFrame(features_train_scaled, columns=features_train.columns)\n",
    "#features_valid_scaled = pd.DataFrame(features_valid_scaled, columns=features_valid.columns)\n",
    "#features_test_scaled = pd.DataFrame(features_test_scaled, columns=features_test.columns)"
   ]
  },
  {
   "cell_type": "markdown",
   "metadata": {},
   "source": [
    "<div class=\"alert alert-block alert-warning\">\n",
    "<b>Reviewer's comment</b> <a class=\"tocSkip\"></a>\n",
    "\n",
    "Okay, but it's better to show such moments in experiments than to just write about it.\n",
    "\n",
    "</div>"
   ]
  },
  {
   "cell_type": "markdown",
   "metadata": {},
   "source": [
    "<div class=\"alert alert-block alert-info\">\n",
    "<b>Student answer.</b> <a class=\"tocSkip\"></a>\n",
    "\n",
    "I ran the code and added another cell below showing the scores are lower for scaled data and added analysis\n",
    "</div>"
   ]
  },
  {
   "cell_type": "markdown",
   "metadata": {},
   "source": [
    "<div class=\"alert alert-block alert-success\">\n",
    "<b>Reviewer's comment V2</b> <a class=\"tocSkip\"></a>\n",
    "\n",
    "Thank you!\n",
    "\n",
    "</div>"
   ]
  },
  {
   "cell_type": "markdown",
   "metadata": {},
   "source": [
    "## Train Models"
   ]
  },
  {
   "cell_type": "markdown",
   "metadata": {},
   "source": [
    "### Scaled Features Models"
   ]
  },
  {
   "cell_type": "code",
   "execution_count": 42,
   "metadata": {},
   "outputs": [
    {
     "name": "stdout",
     "output_type": "stream",
     "text": [
      "Scaled Models F1 Scores\n",
      "\n",
      "Decision Tree F1 Score: 32.202052091554854\n",
      "Random Forest F1 Score: 20.36630036630037\n",
      "Logistic Regression F1 Score: 33.22147651006711\n",
      "\n",
      "Scaled Models AUC-ROC Scores\n",
      "\n",
      "Decision Tree: 67.22219085439683\n",
      "Random Forest: 84.25938995853173\n",
      "Logistic Regression: 76.1700198872013\n"
     ]
    }
   ],
   "source": [
    "#Train decision tree model\n",
    "decision_tree_scaled = DecisionTreeClassifier(random_state=315)\n",
    "decision_tree_scaled.fit(features_train_scaled, target_train)\n",
    "dt_predicted_valid_scaled = decision_tree_scaled.predict(features_valid)\n",
    "\n",
    "#Train random forest model\n",
    "random_forest_scaled = RandomForestClassifier(random_state=315)\n",
    "random_forest_scaled.fit(features_train_scaled, target_train)\n",
    "rf_predicted_valid_scaled = random_forest_scaled.predict(features_valid)\n",
    "\n",
    "#Train logistic regression using solver='liblinear' hyperparamter\n",
    "logistic_regression_scaled = LogisticRegression(random_state=315, solver='liblinear') \n",
    "logistic_regression_scaled.fit(features_train_scaled, target_train)\n",
    "lr_predicted_valid_scaled = logistic_regression_scaled.predict(features_valid)\n",
    "\n",
    "#F1 scores\n",
    "#Decision Tree\n",
    "print(\"Scaled Models F1 Scores\")\n",
    "print()\n",
    "print(\"Decision Tree F1 Score:\", f1_score(target_valid, dt_predicted_valid_scaled)*100)\n",
    "\n",
    "#Random Forest\n",
    "print(\"Random Forest F1 Score:\", f1_score(target_valid, rf_predicted_valid_scaled)*100)\n",
    "\n",
    "#Logistic Regression\n",
    "print(\"Logistic Regression F1 Score:\", f1_score(target_valid, lr_predicted_valid_scaled)*100)\n",
    "\n",
    "#AUC-ROC metric\n",
    "#Decision Tree\n",
    "\n",
    "probabilities_valid_dt_scaled = decision_tree_scaled.predict_proba(features_valid_scaled)\n",
    "probabilities_one_valid_dt_scaled = probabilities_valid_dt_scaled[:, 1]\n",
    "\n",
    "auc_roc_dt_scaled = roc_auc_score(target_valid, probabilities_one_valid_dt_scaled)\n",
    "\n",
    "#Random Forest\n",
    "\n",
    "probabilities_valid_rf_scaled = random_forest_scaled.predict_proba(features_valid_scaled)\n",
    "probabilities_one_valid_rf_scaled = probabilities_valid_rf_scaled[:, 1]\n",
    "\n",
    "auc_roc_rf_scaled = roc_auc_score(target_valid, probabilities_one_valid_rf_scaled)\n",
    "\n",
    "#Logistic Regression\n",
    "\n",
    "probabilities_valid_lr_scaled = logistic_regression_scaled.predict_proba(features_valid_scaled)\n",
    "probabilities_one_valid_lr_scaled = probabilities_valid_lr_scaled[:, 1]\n",
    "\n",
    "auc_roc_lr_scaled = roc_auc_score(target_valid, probabilities_one_valid_lr_scaled)\n",
    "\n",
    "print()\n",
    "print(\"Scaled Models AUC-ROC Scores\")\n",
    "print()\n",
    "print(\"Decision Tree:\", auc_roc_dt_scaled*100)\n",
    "print(\"Random Forest:\", auc_roc_rf_scaled*100)\n",
    "print(\"Logistic Regression:\", auc_roc_lr_scaled*100)"
   ]
  },
  {
   "cell_type": "markdown",
   "metadata": {},
   "source": [
    "### Unscaled Features Models"
   ]
  },
  {
   "cell_type": "code",
   "execution_count": 43,
   "metadata": {},
   "outputs": [
    {
     "name": "stdout",
     "output_type": "stream",
     "text": [
      "Unscaled Models F1 Scores\n",
      "\n",
      "Decision Tree F1 Score: 46.72435105067985\n",
      "Random Forest F1 Score: 58.97035881435257\n",
      "Logistic Regression F1 Score: 9.251101321585903\n",
      "\n",
      "Unscaled Models AUC-ROC Scores\n",
      "\n",
      "Decision Tree: 66.81487964165396\n",
      "Random Forest: 84.28981674916405\n",
      "Logistic Regression: 65.22170778988577\n"
     ]
    }
   ],
   "source": [
    "#Train inital decision tree model\n",
    "decision_tree = DecisionTreeClassifier(random_state=315)\n",
    "decision_tree.fit(features_train, target_train)\n",
    "dt_predicted_valid = decision_tree.predict(features_valid)\n",
    "\n",
    "#Train initial random forest model\n",
    "random_forest = RandomForestClassifier(random_state=315)\n",
    "random_forest.fit(features_train, target_train)\n",
    "rf_predicted_valid = random_forest.predict(features_valid)\n",
    "\n",
    "#Train initial logistic regression using solver='liblinear' hyperparamter\n",
    "logistic_regression = LogisticRegression(random_state=315, solver='liblinear') \n",
    "logistic_regression.fit(features_train, target_train)\n",
    "lr_predicted_valid = logistic_regression.predict(features_valid)\n",
    "\n",
    "#Initial F1 scores\n",
    "#Decision Tree\n",
    "print(\"Unscaled Models F1 Scores\")\n",
    "print()\n",
    "print(\"Decision Tree F1 Score:\", f1_score(target_valid, dt_predicted_valid)*100)\n",
    "\n",
    "#Random Forest\n",
    "print(\"Random Forest F1 Score:\", f1_score(target_valid, rf_predicted_valid)*100)\n",
    "\n",
    "#Logistic Regression\n",
    "print(\"Logistic Regression F1 Score:\", f1_score(target_valid, lr_predicted_valid)*100)\n",
    "\n",
    "#Initial AUC-ROC metric\n",
    "#Decision Tree\n",
    "\n",
    "probabilities_valid_dt = decision_tree.predict_proba(features_valid)\n",
    "probabilities_one_valid_dt = probabilities_valid_dt[:, 1]\n",
    "\n",
    "auc_roc_dt = roc_auc_score(target_valid, probabilities_one_valid_dt)\n",
    "\n",
    "#Random Forest\n",
    "\n",
    "probabilities_valid_rf = random_forest.predict_proba(features_valid)\n",
    "probabilities_one_valid_rf = probabilities_valid_rf[:, 1]\n",
    "\n",
    "auc_roc_rf = roc_auc_score(target_valid, probabilities_one_valid_rf)\n",
    "\n",
    "#Logistic Regression\n",
    "\n",
    "probabilities_valid_lr = logistic_regression.predict_proba(features_valid)\n",
    "probabilities_one_valid_lr = probabilities_valid_lr[:, 1]\n",
    "\n",
    "auc_roc_lr = roc_auc_score(target_valid, probabilities_one_valid_lr)\n",
    "\n",
    "print()\n",
    "print(\"Unscaled Models AUC-ROC Scores\")\n",
    "print()\n",
    "print(\"Decision Tree:\", auc_roc_dt*100)\n",
    "print(\"Random Forest:\", auc_roc_rf*100)\n",
    "print(\"Logistic Regression:\", auc_roc_lr*100)\n"
   ]
  },
  {
   "cell_type": "markdown",
   "metadata": {},
   "source": [
    "**Observations:** \n",
    "\n",
    "The scores were overall much lower for the scaled features dataset. Will work with the unscaled features dataset for the remainder of the project.\n",
    "\n",
    "The highest F1 and AUC-ROC scores are for Random Forest model. Will focus on retraining that one and improving score."
   ]
  },
  {
   "cell_type": "markdown",
   "metadata": {},
   "source": [
    "<div class=\"alert alert-block alert-success\">\n",
    "<b>Reviewer's comment</b> <a class=\"tocSkip\"></a>\n",
    "\n",
    "Good job!\n",
    "</div>"
   ]
  },
  {
   "cell_type": "markdown",
   "metadata": {},
   "source": [
    "## Retrain Models"
   ]
  },
  {
   "cell_type": "markdown",
   "metadata": {},
   "source": [
    "### Adjust for Class Imbalance"
   ]
  },
  {
   "cell_type": "code",
   "execution_count": 44,
   "metadata": {},
   "outputs": [
    {
     "name": "stdout",
     "output_type": "stream",
     "text": [
      "First Method Class Balance via 'class_weight' Parameter F1 scores\n",
      "\n",
      "Decision Tree F1 Score: 46.441947565543074\n",
      "Random Forest F1 Score: 57.09728867623603\n",
      "Logistic Regression F1 Score: 41.5\n"
     ]
    }
   ],
   "source": [
    "#First method class imbalance adjustment via sklearn class_weight parameter\n",
    "#Retrain models with class_weight=balanced parameter\n",
    "#Decision Tree\n",
    "decision_tree_balanced1 = DecisionTreeClassifier(class_weight='balanced', random_state=315)\n",
    "decision_tree_balanced1.fit(features_train, target_train)\n",
    "dt_balanced1_predicted_valid = decision_tree_balanced1.predict(features_valid)\n",
    "\n",
    "print(\"First Method Class Balance via 'class_weight' Parameter F1 scores\")\n",
    "print()\n",
    "print(\"Decision Tree F1 Score:\", f1_score(target_valid, dt_balanced1_predicted_valid)*100)\n",
    "\n",
    "\n",
    "#Random Forest\n",
    "random_forest_balanced1 = RandomForestClassifier(class_weight='balanced', random_state=315)\n",
    "random_forest_balanced1.fit(features_train, target_train)\n",
    "rf_balanced1_predicted_valid = random_forest_balanced1.predict(features_valid)\n",
    "\n",
    "print(\"Random Forest F1 Score:\", f1_score(target_valid, rf_balanced1_predicted_valid)*100)\n",
    "\n",
    "#Logistic Regression\n",
    "logistic_regression_balanced1 = LogisticRegression(class_weight='balanced', random_state=315, solver='liblinear') \n",
    "logistic_regression_balanced1.fit(features_train, target_train)\n",
    "lr_balanced1_predicted_valid = logistic_regression_balanced1.predict(features_valid)\n",
    "\n",
    "print(\"Logistic Regression F1 Score:\", f1_score(target_valid, lr_balanced1_predicted_valid)*100) "
   ]
  },
  {
   "cell_type": "markdown",
   "metadata": {},
   "source": [
    "**Observations:** This first method to address the class imbalance using the class_weight=balanced hyperparameter lowered the Random Forest score but it increased the Logistic Regression score."
   ]
  },
  {
   "cell_type": "markdown",
   "metadata": {},
   "source": [
    "<div class=\"alert alert-block alert-success\">\n",
    "<b>Reviewer's comment</b> <a class=\"tocSkip\"></a>\n",
    "\n",
    "Well done!\n",
    "</div>"
   ]
  },
  {
   "cell_type": "code",
   "execution_count": 45,
   "metadata": {},
   "outputs": [],
   "source": [
    "#Second method class imbalance adjustment via upsampling\n",
    "#Combine the training features and target dataset\n",
    "\n",
    "train_data = pd.concat([features_train, target_train], axis=1)\n",
    "\n",
    "#Define the majority and minority target data\n",
    "majority_class = train_data[train_data.Exited == 0]\n",
    "minority_class = train_data[train_data.Exited == 1]\n",
    "\n",
    "#Upsample the minority data\n",
    "minority_upsampled = resample(minority_class, \n",
    "                              replace=True, \n",
    "                              n_samples=len(majority_class), \n",
    "                              random_state=315)\n",
    "\n",
    "#Combine the upsampled minority data with the majority data\n",
    "upsampled_train = pd.concat([majority_class, minority_upsampled])\n",
    "\n",
    "# Separate features and target data\n",
    "features_upsampled = upsampled_train.drop('Exited', axis=1)\n",
    "target_upsampled = upsampled_train['Exited']"
   ]
  },
  {
   "cell_type": "markdown",
   "metadata": {},
   "source": [
    "**Analysis Notes:** Chose upsampling instead of downsampling to preserve the majority class dataset"
   ]
  },
  {
   "cell_type": "code",
   "execution_count": 46,
   "metadata": {},
   "outputs": [
    {
     "name": "stdout",
     "output_type": "stream",
     "text": [
      "Second Method Class Balance via Upsampling\n",
      "\n",
      "Decision Tree F1: 49.36708860759494\n",
      "Random Forest F1: 60.94182825484765\n",
      "Logistic Regression F1: 41.946308724832214\n"
     ]
    }
   ],
   "source": [
    "#Retrain the Decision Tree model with upsampled training set\n",
    "decision_tree_balanced2 = DecisionTreeClassifier(random_state=315)\n",
    "decision_tree_balanced2.fit(features_upsampled, target_upsampled)\n",
    "dt_balanced2_predicted_valid = decision_tree_balanced2.predict(features_valid)\n",
    "\n",
    "print('Second Method Class Balance via Upsampling')\n",
    "print()\n",
    "print('Decision Tree F1:', f1_score(target_valid, dt_balanced2_predicted_valid)*100)\n",
    "\n",
    "#Train Random Forest model with upsampled training set\n",
    "random_forest_balanced2 = RandomForestClassifier(random_state=315)\n",
    "random_forest_balanced2.fit(features_upsampled, target_upsampled)\n",
    "rf_balanced2_predicted_valid = random_forest_balanced2.predict(features_valid)\n",
    "\n",
    "print('Random Forest F1:', f1_score(target_valid, rf_balanced2_predicted_valid)*100)\n",
    "\n",
    "#Train Logistic Regression model with upsampled training set\n",
    "logistic_regression_balanced2 = LogisticRegression(random_state=315, solver='liblinear') \n",
    "logistic_regression_balanced2.fit(features_upsampled, target_upsampled)\n",
    "lr_balanced2_predicted_valid = logistic_regression_balanced2.predict(features_valid)\n",
    "\n",
    "print('Logistic Regression F1:', f1_score(target_valid, lr_balanced2_predicted_valid)*100)"
   ]
  },
  {
   "cell_type": "markdown",
   "metadata": {},
   "source": [
    "**Observations:** This second method to address the class imbalance using upsampling increased the Random Forest score.\n",
    "\n",
    "Will use upsampled dataset to retrain random forest model"
   ]
  },
  {
   "cell_type": "markdown",
   "metadata": {},
   "source": [
    "<div class=\"alert alert-block alert-success\">\n",
    "<b>Reviewer's comment</b> <a class=\"tocSkip\"></a>\n",
    "\n",
    "Okay, good job\n",
    "</div>"
   ]
  },
  {
   "cell_type": "markdown",
   "metadata": {},
   "source": [
    "### Retrain Random Forest Model"
   ]
  },
  {
   "cell_type": "code",
   "execution_count": 47,
   "metadata": {},
   "outputs": [],
   "source": [
    "#Tuning hyperparameters for rf model\n",
    "\n",
    "#param_grid = { 'n_estimators': [100, 200, 300],\n",
    "    #'max_depth': [None, 10, 20, 30],\n",
    "    #'min_samples_split': [2, 5, 10],\n",
    "    #'min_samples_leaf': [1, 2, 4],\n",
    "    #'max_features': ['auto', 'sqrt', 'log2'],\n",
    "    #'bootstrap': [True, False]\n",
    "#}\n",
    "\n",
    "#random_forest_retrain2 = RandomForestClassifier(random_state=315)\n",
    "#grid_search = GridSearchCV(estimator=random_forest_retrain2, param_grid=param_grid, cv=5, n_jobs=-1, verbose=2)\n",
    "\n",
    "#grid_search.fit(features_train, target_train)\n",
    "\n",
    "#best_params = grid_search.best_params_\n",
    "#print(f\"Best hyperparameters: {best_params}\")"
   ]
  },
  {
   "cell_type": "markdown",
   "metadata": {},
   "source": [
    "**Analysis Notes:** This code ran for almost an hour so commenting it out so it doesn't run again"
   ]
  },
  {
   "cell_type": "code",
   "execution_count": 48,
   "metadata": {},
   "outputs": [
    {
     "name": "stdout",
     "output_type": "stream",
     "text": [
      "Upsampled Dataset\n",
      "\n",
      "Random Forest Validation Data\n",
      "Random Forest F1: 61.19205298013245\n",
      "AUC-ROC: 84.7020683944065\n",
      "\n",
      "Random Forest Test Data\n",
      "Random Forest F1: 62.15139442231076\n",
      "AUC-ROC: 86.54475000432124\n"
     ]
    }
   ],
   "source": [
    "#Retrain Random Forest model with hyperparameters and upsampled data set\n",
    "random_forest_upsample = RandomForestClassifier(random_state=315, n_estimators=300, bootstrap=True, max_depth=20,\n",
    "                                               max_features='auto', min_samples_leaf=2, min_samples_split=2)\n",
    "random_forest_upsample.fit(features_upsampled, target_upsampled)\n",
    "\n",
    "rf_upsample_predicted_valid = random_forest_upsample.predict(features_valid)\n",
    "\n",
    "#AUC-ROC validation score \n",
    "probabilities_valid_rf_upsample = random_forest_upsample.predict_proba(features_valid)\n",
    "probabilities_one_valid_rf_upsample = probabilities_valid_rf_upsample[:, 1]\n",
    "\n",
    "auc_roc_rf_upsample = roc_auc_score(target_valid, probabilities_one_valid_rf_upsample)\n",
    "\n",
    "#Random Forest Test Data scoring code\n",
    "#F1\n",
    "rf_upsample_predicted_test = random_forest_upsample.predict(features_test)\n",
    "\n",
    "#AUC-ROC\n",
    "probabilities_test_rf_upsample = random_forest_upsample.predict_proba(features_test)\n",
    "probabilities_one_test_rf_upsample = probabilities_test_rf_upsample[:, 1]\n",
    "\n",
    "auc_roc_rf_upsample_test = roc_auc_score(target_test, probabilities_one_test_rf_upsample)\n",
    "\n",
    "print(\"Upsampled Dataset\")\n",
    "print()\n",
    "print(\"Random Forest Validation Data\")\n",
    "print('Random Forest F1:', f1_score(target_valid, rf_upsample_predicted_valid)*100)\n",
    "print('AUC-ROC:', auc_roc_rf_upsample*100)\n",
    "print()\n",
    "print(\"Random Forest Test Data\")\n",
    "print('Random Forest F1:', f1_score(target_test, rf_upsample_predicted_test)*100)\n",
    "print('AUC-ROC:', auc_roc_rf_upsample_test*100)"
   ]
  },
  {
   "cell_type": "markdown",
   "metadata": {},
   "source": [
    "<div class=\"alert alert-block alert-info\">\n",
    "<b>Student answer.</b> <a class=\"tocSkip\"></a>\n",
    "\n",
    "There was a red reviewer comment after my final retrained model stating that I was missing the F1 and AUC-ROC scores on the Test dataset. I must have accidentally deleted that comment.\n",
    "</div>"
   ]
  },
  {
   "cell_type": "markdown",
   "metadata": {},
   "source": [
    "<div class=\"alert alert-block alert-success\">\n",
    "<b>Reviewer's comment V2</b> <a class=\"tocSkip\"></a>\n",
    "\n",
    "Well done!\n",
    "\n",
    "</div>"
   ]
  },
  {
   "cell_type": "markdown",
   "metadata": {},
   "source": [
    "## Project Conclusion:"
   ]
  },
  {
   "cell_type": "markdown",
   "metadata": {},
   "source": [
    "### First Submission:\n",
    "**Best trained model:** Random Forest w/out adjusting for class imbalance\n",
    "\n",
    "**Initial RF model scores**\n",
    "F1: 58.69\n",
    "AUC-ROC: 84.29\n",
    "\n",
    "**Final RF model scores**\n",
    "F1: 59.1\n",
    "AUC-ROC: 85\n",
    "\n",
    "**Feature Preparation:**\n",
    "At the time I prepared the data, I was unsure what model I'd be using so I performed StandardScaler on the features but that isn't useful for Random Forest model so I went back and removed that code when I decided to use the RF model\n",
    "\n",
    "**Class Imbalance**\n",
    "I found 4 methods of handling class imbalance decreased the F1 score on the RF model so the final trained model uses the initial training dataset. I left the code for the initial 2 I thought would be best which were class_weight='balanved' hyperparameter and upsampling. After these 2 didn't improved scores I tried downsampling and SMOTE just to see what would happen but the scores decreased with those methods as well\n",
    "\n",
    "**Tuning Hyperparameters:**\n",
    "I used two methods I learned from the material first for max_depth and n_estimators but the best scored values for both found lowered the RF F1 score as well. So I tried the hyperparameters tuning code using the param_grid for more parameters than just those 2 and those results improved the F1 score.\n",
    "\n",
    "**Scoring:**\n",
    "The final F1 score of 59 indicates that I increased the model's harmony between precision and recall from 58.97 which is a small increase. F1 score focus on performance in respect to the positive class and can be sensitive to imbalanced datasets which this final model was trained with an imbalanced dataset but oddly enough had a lower score when I balanced the datasets.\n",
    "\n",
    "The final AUC-ROC score of 85 indicates that I increased the model's performance in regards to all possible thresholds from 84.29 but again this is a small increase."
   ]
  },
  {
   "cell_type": "markdown",
   "metadata": {},
   "source": [
    "### Second Submission:"
   ]
  },
  {
   "cell_type": "markdown",
   "metadata": {},
   "source": [
    "**Best trained model:** Random Forest with upsampled dataset\n",
    "\n",
    "**First Random Forest model scores (Scaled dataset with no class imbalance adjustments)**\n",
    "\n",
    "F1: 20.36\n",
    "\n",
    "AUC-ROC: 84.29\n",
    "\n",
    "**Final Random Forest model scores(Unscaled, Upsampled data, hyperparameter tuning)**\n",
    "\n",
    "Validation data\n",
    "\n",
    "F1: 61.19\n",
    "\n",
    "AUC-ROC: 84.70\n",
    "\n",
    "Test data\n",
    "\n",
    "F1: 62.15\n",
    "\n",
    "AUC-ROC:86.54\n",
    "\n",
    "**Notes:** After reviewing the feedback from first submission and making the necessary edits. I found that when I reprocessed everything I was actually getting better scores from the upsampled data, when previously that was not the case.\n",
    "\n",
    "So I submitted second submission project conclusion notes with these details but left the first submission conclusion notes"
   ]
  },
  {
   "cell_type": "code",
   "execution_count": null,
   "metadata": {},
   "outputs": [],
   "source": []
  }
 ],
 "metadata": {
  "ExecuteTimeLog": [
   {
    "duration": 333,
    "start_time": "2024-07-29T14:41:24.398Z"
   },
   {
    "duration": 501,
    "start_time": "2024-07-29T14:41:35.531Z"
   },
   {
    "duration": 3,
    "start_time": "2024-07-29T14:41:55.728Z"
   },
   {
    "duration": 23,
    "start_time": "2024-07-29T14:41:58.432Z"
   },
   {
    "duration": 7,
    "start_time": "2024-07-29T14:42:54.476Z"
   },
   {
    "duration": 125,
    "start_time": "2024-07-29T14:43:01.028Z"
   },
   {
    "duration": 58,
    "start_time": "2024-07-29T14:43:23.450Z"
   },
   {
    "duration": 82,
    "start_time": "2024-07-29T14:43:30.494Z"
   },
   {
    "duration": 37,
    "start_time": "2024-07-29T14:43:52.495Z"
   },
   {
    "duration": 26,
    "start_time": "2024-07-29T14:43:57.934Z"
   },
   {
    "duration": 7,
    "start_time": "2024-07-29T15:08:16.784Z"
   },
   {
    "duration": 6,
    "start_time": "2024-07-29T15:08:26.894Z"
   },
   {
    "duration": 1392,
    "start_time": "2024-07-29T15:08:39.562Z"
   },
   {
    "duration": 69,
    "start_time": "2024-07-29T15:09:36.813Z"
   },
   {
    "duration": 72,
    "start_time": "2024-07-29T15:09:54.978Z"
   },
   {
    "duration": 164,
    "start_time": "2024-07-29T15:11:02.482Z"
   },
   {
    "duration": 73,
    "start_time": "2024-07-29T15:11:11.234Z"
   },
   {
    "duration": 65,
    "start_time": "2024-07-29T15:11:47.430Z"
   },
   {
    "duration": 70,
    "start_time": "2024-07-29T15:12:38.033Z"
   },
   {
    "duration": 67,
    "start_time": "2024-07-29T15:12:50.134Z"
   },
   {
    "duration": 67,
    "start_time": "2024-07-29T15:13:03.416Z"
   },
   {
    "duration": 70,
    "start_time": "2024-07-29T15:15:06.568Z"
   },
   {
    "duration": 3,
    "start_time": "2024-07-29T15:16:09.097Z"
   },
   {
    "duration": 481,
    "start_time": "2024-07-29T15:16:21.407Z"
   },
   {
    "duration": 48,
    "start_time": "2024-07-29T15:16:21.892Z"
   },
   {
    "duration": 68,
    "start_time": "2024-07-29T15:16:21.943Z"
   },
   {
    "duration": 24,
    "start_time": "2024-07-29T15:16:22.015Z"
   },
   {
    "duration": 18,
    "start_time": "2024-07-29T15:16:22.045Z"
   },
   {
    "duration": 4,
    "start_time": "2024-07-29T15:17:52.878Z"
   },
   {
    "duration": 35,
    "start_time": "2024-07-29T15:17:52.885Z"
   },
   {
    "duration": 51,
    "start_time": "2024-07-29T15:17:52.924Z"
   },
   {
    "duration": 37,
    "start_time": "2024-07-29T15:17:52.978Z"
   },
   {
    "duration": 18,
    "start_time": "2024-07-29T15:17:53.019Z"
   },
   {
    "duration": 1762,
    "start_time": "2024-07-29T15:30:31.583Z"
   },
   {
    "duration": 440,
    "start_time": "2024-07-29T15:30:42.838Z"
   },
   {
    "duration": 45,
    "start_time": "2024-07-29T15:30:43.282Z"
   },
   {
    "duration": 28,
    "start_time": "2024-07-29T15:30:43.331Z"
   },
   {
    "duration": 48,
    "start_time": "2024-07-29T15:30:43.362Z"
   },
   {
    "duration": 1674,
    "start_time": "2024-07-29T15:31:05.977Z"
   },
   {
    "duration": 3,
    "start_time": "2024-07-29T15:31:16.966Z"
   },
   {
    "duration": 33,
    "start_time": "2024-07-29T15:31:16.974Z"
   },
   {
    "duration": 22,
    "start_time": "2024-07-29T15:31:17.010Z"
   },
   {
    "duration": 6,
    "start_time": "2024-07-29T15:31:17.035Z"
   },
   {
    "duration": 21,
    "start_time": "2024-07-29T15:35:23.070Z"
   },
   {
    "duration": 7,
    "start_time": "2024-07-29T15:36:05.334Z"
   },
   {
    "duration": 4,
    "start_time": "2024-07-29T15:36:26.351Z"
   },
   {
    "duration": 7,
    "start_time": "2024-07-29T15:36:40.166Z"
   },
   {
    "duration": 17,
    "start_time": "2024-07-29T16:17:35.230Z"
   },
   {
    "duration": 30,
    "start_time": "2024-07-29T16:17:47.249Z"
   },
   {
    "duration": 24,
    "start_time": "2024-07-29T16:18:07.704Z"
   },
   {
    "duration": 12,
    "start_time": "2024-07-29T16:19:31.654Z"
   },
   {
    "duration": 13,
    "start_time": "2024-07-29T16:19:48.818Z"
   },
   {
    "duration": 11,
    "start_time": "2024-07-29T16:19:56.246Z"
   },
   {
    "duration": 676,
    "start_time": "2024-07-29T16:21:52.270Z"
   },
   {
    "duration": 34,
    "start_time": "2024-07-29T16:21:52.951Z"
   },
   {
    "duration": 35,
    "start_time": "2024-07-29T16:21:52.988Z"
   },
   {
    "duration": 6,
    "start_time": "2024-07-29T16:21:53.026Z"
   },
   {
    "duration": 6,
    "start_time": "2024-07-29T16:21:53.038Z"
   },
   {
    "duration": 6,
    "start_time": "2024-07-29T16:21:53.048Z"
   },
   {
    "duration": 4,
    "start_time": "2024-07-29T16:21:53.057Z"
   },
   {
    "duration": 6,
    "start_time": "2024-07-29T16:22:09.581Z"
   },
   {
    "duration": 7,
    "start_time": "2024-07-29T16:23:05.022Z"
   },
   {
    "duration": 215,
    "start_time": "2024-07-29T16:23:09.339Z"
   },
   {
    "duration": 82,
    "start_time": "2024-07-29T16:23:17.866Z"
   },
   {
    "duration": 3,
    "start_time": "2024-07-29T16:23:21.677Z"
   },
   {
    "duration": 40,
    "start_time": "2024-07-29T16:23:21.684Z"
   },
   {
    "duration": 26,
    "start_time": "2024-07-29T16:23:21.729Z"
   },
   {
    "duration": 6,
    "start_time": "2024-07-29T16:23:21.763Z"
   },
   {
    "duration": 36,
    "start_time": "2024-07-29T16:23:21.773Z"
   },
   {
    "duration": 80,
    "start_time": "2024-07-29T16:23:21.811Z"
   },
   {
    "duration": 0,
    "start_time": "2024-07-29T16:23:21.909Z"
   },
   {
    "duration": 82,
    "start_time": "2024-07-29T16:25:28.765Z"
   },
   {
    "duration": 4,
    "start_time": "2024-07-29T16:25:38.706Z"
   },
   {
    "duration": 38,
    "start_time": "2024-07-29T16:25:38.714Z"
   },
   {
    "duration": 21,
    "start_time": "2024-07-29T16:25:38.756Z"
   },
   {
    "duration": 28,
    "start_time": "2024-07-29T16:25:38.780Z"
   },
   {
    "duration": 8,
    "start_time": "2024-07-29T16:25:38.812Z"
   },
   {
    "duration": 281,
    "start_time": "2024-07-29T16:25:38.822Z"
   },
   {
    "duration": 0,
    "start_time": "2024-07-29T16:25:39.109Z"
   },
   {
    "duration": 4,
    "start_time": "2024-07-29T16:26:25.319Z"
   },
   {
    "duration": 33,
    "start_time": "2024-07-29T16:26:25.328Z"
   },
   {
    "duration": 21,
    "start_time": "2024-07-29T16:26:25.364Z"
   },
   {
    "duration": 6,
    "start_time": "2024-07-29T16:26:25.411Z"
   },
   {
    "duration": 8,
    "start_time": "2024-07-29T16:26:25.421Z"
   },
   {
    "duration": 9,
    "start_time": "2024-07-29T16:26:25.432Z"
   },
   {
    "duration": 3,
    "start_time": "2024-07-29T16:26:25.444Z"
   },
   {
    "duration": 171,
    "start_time": "2024-07-29T16:26:49.172Z"
   },
   {
    "duration": 5,
    "start_time": "2024-07-29T16:26:55.453Z"
   },
   {
    "duration": 37,
    "start_time": "2024-07-29T16:26:55.462Z"
   },
   {
    "duration": 25,
    "start_time": "2024-07-29T16:26:55.502Z"
   },
   {
    "duration": 6,
    "start_time": "2024-07-29T16:26:55.531Z"
   },
   {
    "duration": 8,
    "start_time": "2024-07-29T16:26:55.541Z"
   },
   {
    "duration": 15,
    "start_time": "2024-07-29T16:26:55.552Z"
   },
   {
    "duration": 40,
    "start_time": "2024-07-29T16:26:55.570Z"
   },
   {
    "duration": 81,
    "start_time": "2024-07-29T16:27:54.218Z"
   },
   {
    "duration": 3,
    "start_time": "2024-07-29T16:28:01.777Z"
   },
   {
    "duration": 35,
    "start_time": "2024-07-29T16:28:01.785Z"
   },
   {
    "duration": 22,
    "start_time": "2024-07-29T16:28:01.823Z"
   },
   {
    "duration": 6,
    "start_time": "2024-07-29T16:28:01.848Z"
   },
   {
    "duration": 8,
    "start_time": "2024-07-29T16:28:01.858Z"
   },
   {
    "duration": 49,
    "start_time": "2024-07-29T16:28:01.869Z"
   },
   {
    "duration": 4,
    "start_time": "2024-07-29T16:28:01.921Z"
   },
   {
    "duration": 307,
    "start_time": "2024-07-29T19:40:26.774Z"
   },
   {
    "duration": 1160,
    "start_time": "2024-07-29T19:40:32.657Z"
   },
   {
    "duration": 54,
    "start_time": "2024-07-29T19:40:33.820Z"
   },
   {
    "duration": 27,
    "start_time": "2024-07-29T19:40:33.876Z"
   },
   {
    "duration": 6,
    "start_time": "2024-07-29T19:40:33.906Z"
   },
   {
    "duration": 17,
    "start_time": "2024-07-29T19:40:33.915Z"
   },
   {
    "duration": 130,
    "start_time": "2024-07-29T19:40:33.935Z"
   },
   {
    "duration": 0,
    "start_time": "2024-07-29T19:40:34.069Z"
   },
   {
    "duration": 19,
    "start_time": "2024-07-29T19:40:40.290Z"
   },
   {
    "duration": 17,
    "start_time": "2024-07-29T19:42:43.880Z"
   },
   {
    "duration": 24,
    "start_time": "2024-07-29T19:47:14.357Z"
   },
   {
    "duration": 18,
    "start_time": "2024-07-29T19:51:25.732Z"
   },
   {
    "duration": 4,
    "start_time": "2024-07-29T19:51:35.326Z"
   },
   {
    "duration": 35,
    "start_time": "2024-07-29T19:51:35.334Z"
   },
   {
    "duration": 21,
    "start_time": "2024-07-29T19:51:35.372Z"
   },
   {
    "duration": 5,
    "start_time": "2024-07-29T19:51:35.427Z"
   },
   {
    "duration": 7,
    "start_time": "2024-07-29T19:51:35.436Z"
   },
   {
    "duration": 19,
    "start_time": "2024-07-29T19:51:35.448Z"
   },
   {
    "duration": 59,
    "start_time": "2024-07-29T19:51:35.470Z"
   },
   {
    "duration": 3,
    "start_time": "2024-07-29T19:51:35.532Z"
   },
   {
    "duration": 4,
    "start_time": "2024-07-29T20:00:40.345Z"
   },
   {
    "duration": 36,
    "start_time": "2024-07-29T20:00:40.353Z"
   },
   {
    "duration": 21,
    "start_time": "2024-07-29T20:00:40.391Z"
   },
   {
    "duration": 5,
    "start_time": "2024-07-29T20:00:40.429Z"
   },
   {
    "duration": 6,
    "start_time": "2024-07-29T20:00:40.438Z"
   },
   {
    "duration": 18,
    "start_time": "2024-07-29T20:00:40.447Z"
   },
   {
    "duration": 387,
    "start_time": "2024-07-29T20:00:40.469Z"
   },
   {
    "duration": 0,
    "start_time": "2024-07-29T20:00:40.860Z"
   },
   {
    "duration": 19,
    "start_time": "2024-07-29T20:01:02.371Z"
   },
   {
    "duration": 130,
    "start_time": "2024-07-29T20:01:47.328Z"
   },
   {
    "duration": 126,
    "start_time": "2024-07-29T20:03:46.186Z"
   },
   {
    "duration": 109,
    "start_time": "2024-07-29T20:08:02.069Z"
   },
   {
    "duration": 187,
    "start_time": "2024-07-29T20:08:12.291Z"
   },
   {
    "duration": 8,
    "start_time": "2024-07-29T20:14:57.881Z"
   },
   {
    "duration": 28,
    "start_time": "2024-07-29T20:15:30.209Z"
   },
   {
    "duration": 1053,
    "start_time": "2024-07-29T20:15:37.202Z"
   },
   {
    "duration": 115,
    "start_time": "2024-07-29T20:19:21.930Z"
   },
   {
    "duration": 26,
    "start_time": "2024-07-29T20:19:35.456Z"
   },
   {
    "duration": 29,
    "start_time": "2024-07-29T20:19:45.402Z"
   },
   {
    "duration": 25,
    "start_time": "2024-07-29T20:20:44.814Z"
   },
   {
    "duration": 9,
    "start_time": "2024-07-29T20:21:02.491Z"
   },
   {
    "duration": 23,
    "start_time": "2024-07-29T20:21:02.599Z"
   },
   {
    "duration": 21,
    "start_time": "2024-07-29T20:21:50.343Z"
   },
   {
    "duration": 4,
    "start_time": "2024-07-29T20:22:20.114Z"
   },
   {
    "duration": 34,
    "start_time": "2024-07-29T20:22:20.122Z"
   },
   {
    "duration": 22,
    "start_time": "2024-07-29T20:22:20.159Z"
   },
   {
    "duration": 6,
    "start_time": "2024-07-29T20:22:20.185Z"
   },
   {
    "duration": 45,
    "start_time": "2024-07-29T20:22:20.194Z"
   },
   {
    "duration": 29,
    "start_time": "2024-07-29T20:22:20.243Z"
   },
   {
    "duration": 3,
    "start_time": "2024-07-29T20:22:20.275Z"
   },
   {
    "duration": 7,
    "start_time": "2024-07-29T20:23:07.132Z"
   },
   {
    "duration": 3,
    "start_time": "2024-07-29T20:23:12.782Z"
   },
   {
    "duration": 33,
    "start_time": "2024-07-29T20:23:12.790Z"
   },
   {
    "duration": 20,
    "start_time": "2024-07-29T20:23:12.826Z"
   },
   {
    "duration": 6,
    "start_time": "2024-07-29T20:23:12.849Z"
   },
   {
    "duration": 7,
    "start_time": "2024-07-29T20:23:12.859Z"
   },
   {
    "duration": 66,
    "start_time": "2024-07-29T20:23:12.870Z"
   },
   {
    "duration": 3,
    "start_time": "2024-07-29T20:23:12.940Z"
   },
   {
    "duration": 6,
    "start_time": "2024-07-29T20:40:44.936Z"
   },
   {
    "duration": 313,
    "start_time": "2024-07-29T23:01:25.240Z"
   },
   {
    "duration": 1161,
    "start_time": "2024-07-29T23:02:01.451Z"
   },
   {
    "duration": 46,
    "start_time": "2024-07-29T23:02:02.616Z"
   },
   {
    "duration": 29,
    "start_time": "2024-07-29T23:02:02.665Z"
   },
   {
    "duration": 18,
    "start_time": "2024-07-29T23:02:02.696Z"
   },
   {
    "duration": 8,
    "start_time": "2024-07-29T23:02:02.719Z"
   },
   {
    "duration": 31,
    "start_time": "2024-07-29T23:02:02.730Z"
   },
   {
    "duration": 6,
    "start_time": "2024-07-29T23:02:02.764Z"
   },
   {
    "duration": 13,
    "start_time": "2024-07-29T23:02:02.812Z"
   },
   {
    "duration": 9,
    "start_time": "2024-07-29T23:03:37.767Z"
   },
   {
    "duration": 6,
    "start_time": "2024-07-29T23:04:04.882Z"
   },
   {
    "duration": 53,
    "start_time": "2024-07-29T23:07:20.220Z"
   },
   {
    "duration": 43,
    "start_time": "2024-07-29T23:07:20.276Z"
   },
   {
    "duration": 22,
    "start_time": "2024-07-29T23:07:20.324Z"
   },
   {
    "duration": 6,
    "start_time": "2024-07-29T23:07:20.349Z"
   },
   {
    "duration": 7,
    "start_time": "2024-07-29T23:07:20.360Z"
   },
   {
    "duration": 70,
    "start_time": "2024-07-29T23:07:20.371Z"
   },
   {
    "duration": 7,
    "start_time": "2024-07-29T23:07:20.445Z"
   },
   {
    "duration": 13,
    "start_time": "2024-07-29T23:07:20.456Z"
   },
   {
    "duration": 46,
    "start_time": "2024-07-29T23:07:20.472Z"
   },
   {
    "duration": 137,
    "start_time": "2024-07-29T23:07:20.521Z"
   },
   {
    "duration": 367,
    "start_time": "2024-07-29T23:07:49.104Z"
   },
   {
    "duration": 11,
    "start_time": "2024-07-29T23:11:01.590Z"
   },
   {
    "duration": 7,
    "start_time": "2024-07-29T23:11:33.698Z"
   },
   {
    "duration": 34,
    "start_time": "2024-07-29T23:12:04.604Z"
   },
   {
    "duration": 29,
    "start_time": "2024-07-29T23:12:38.536Z"
   },
   {
    "duration": 14,
    "start_time": "2024-07-29T23:12:48.816Z"
   },
   {
    "duration": 12,
    "start_time": "2024-07-29T23:13:14.714Z"
   },
   {
    "duration": 21,
    "start_time": "2024-07-29T23:14:17.779Z"
   },
   {
    "duration": 8,
    "start_time": "2024-07-29T23:14:35.972Z"
   },
   {
    "duration": 5,
    "start_time": "2024-07-29T23:14:44.160Z"
   },
   {
    "duration": 35,
    "start_time": "2024-07-29T23:14:44.170Z"
   },
   {
    "duration": 21,
    "start_time": "2024-07-29T23:14:44.208Z"
   },
   {
    "duration": 6,
    "start_time": "2024-07-29T23:14:44.232Z"
   },
   {
    "duration": 10,
    "start_time": "2024-07-29T23:14:44.244Z"
   },
   {
    "duration": 58,
    "start_time": "2024-07-29T23:14:44.257Z"
   },
   {
    "duration": 7,
    "start_time": "2024-07-29T23:14:44.318Z"
   },
   {
    "duration": 36,
    "start_time": "2024-07-29T23:14:44.329Z"
   },
   {
    "duration": 7,
    "start_time": "2024-07-29T23:14:44.368Z"
   },
   {
    "duration": 14,
    "start_time": "2024-07-29T23:14:44.414Z"
   },
   {
    "duration": 10,
    "start_time": "2024-07-29T23:14:44.430Z"
   },
   {
    "duration": 75,
    "start_time": "2024-07-29T23:14:44.442Z"
   },
   {
    "duration": 1007,
    "start_time": "2024-07-29T23:20:57.861Z"
   },
   {
    "duration": 91,
    "start_time": "2024-07-29T23:27:34.243Z"
   },
   {
    "duration": 4,
    "start_time": "2024-07-29T23:28:27.135Z"
   },
   {
    "duration": 35,
    "start_time": "2024-07-29T23:28:27.144Z"
   },
   {
    "duration": 31,
    "start_time": "2024-07-29T23:28:27.182Z"
   },
   {
    "duration": 6,
    "start_time": "2024-07-29T23:28:27.216Z"
   },
   {
    "duration": 11,
    "start_time": "2024-07-29T23:28:27.227Z"
   },
   {
    "duration": 22,
    "start_time": "2024-07-29T23:28:27.241Z"
   },
   {
    "duration": 46,
    "start_time": "2024-07-29T23:28:27.266Z"
   },
   {
    "duration": 30,
    "start_time": "2024-07-29T23:28:27.315Z"
   },
   {
    "duration": 7,
    "start_time": "2024-07-29T23:28:27.348Z"
   },
   {
    "duration": 13,
    "start_time": "2024-07-29T23:28:27.358Z"
   },
   {
    "duration": 10,
    "start_time": "2024-07-29T23:28:27.413Z"
   },
   {
    "duration": 44,
    "start_time": "2024-07-29T23:28:27.426Z"
   },
   {
    "duration": 934,
    "start_time": "2024-07-29T23:28:27.473Z"
   },
   {
    "duration": 26,
    "start_time": "2024-07-29T23:28:28.412Z"
   },
   {
    "duration": 5,
    "start_time": "2024-07-29T23:28:37.100Z"
   },
   {
    "duration": 34,
    "start_time": "2024-07-29T23:28:37.109Z"
   },
   {
    "duration": 22,
    "start_time": "2024-07-29T23:28:37.147Z"
   },
   {
    "duration": 6,
    "start_time": "2024-07-29T23:28:37.172Z"
   },
   {
    "duration": 10,
    "start_time": "2024-07-29T23:28:37.212Z"
   },
   {
    "duration": 22,
    "start_time": "2024-07-29T23:28:37.225Z"
   },
   {
    "duration": 7,
    "start_time": "2024-07-29T23:28:37.250Z"
   },
   {
    "duration": 80,
    "start_time": "2024-07-29T23:28:37.260Z"
   },
   {
    "duration": 6,
    "start_time": "2024-07-29T23:28:37.343Z"
   },
   {
    "duration": 12,
    "start_time": "2024-07-29T23:28:37.352Z"
   },
   {
    "duration": 43,
    "start_time": "2024-07-29T23:28:37.369Z"
   },
   {
    "duration": 44,
    "start_time": "2024-07-29T23:28:37.415Z"
   },
   {
    "duration": 937,
    "start_time": "2024-07-29T23:28:37.463Z"
   },
   {
    "duration": 56,
    "start_time": "2024-07-29T23:28:38.403Z"
   },
   {
    "duration": 40,
    "start_time": "2024-07-29T23:29:14.489Z"
   },
   {
    "duration": 39,
    "start_time": "2024-07-29T23:29:20.293Z"
   },
   {
    "duration": 115,
    "start_time": "2024-07-29T23:35:15.314Z"
   },
   {
    "duration": 313,
    "start_time": "2024-07-30T01:27:13.871Z"
   },
   {
    "duration": 1207,
    "start_time": "2024-07-30T01:27:22.752Z"
   },
   {
    "duration": 48,
    "start_time": "2024-07-30T01:27:23.962Z"
   },
   {
    "duration": 29,
    "start_time": "2024-07-30T01:27:24.012Z"
   },
   {
    "duration": 6,
    "start_time": "2024-07-30T01:27:24.044Z"
   },
   {
    "duration": 10,
    "start_time": "2024-07-30T01:27:24.054Z"
   },
   {
    "duration": 59,
    "start_time": "2024-07-30T01:27:24.068Z"
   },
   {
    "duration": 6,
    "start_time": "2024-07-30T01:27:24.131Z"
   },
   {
    "duration": 30,
    "start_time": "2024-07-30T01:27:24.140Z"
   },
   {
    "duration": 7,
    "start_time": "2024-07-30T01:27:24.206Z"
   },
   {
    "duration": 13,
    "start_time": "2024-07-30T01:27:24.216Z"
   },
   {
    "duration": 10,
    "start_time": "2024-07-30T01:27:24.233Z"
   },
   {
    "duration": 85,
    "start_time": "2024-07-30T01:27:24.245Z"
   },
   {
    "duration": 932,
    "start_time": "2024-07-30T01:27:24.333Z"
   },
   {
    "duration": 51,
    "start_time": "2024-07-30T01:27:25.271Z"
   },
   {
    "duration": 194,
    "start_time": "2024-07-30T01:27:25.325Z"
   },
   {
    "duration": 1052,
    "start_time": "2024-07-30T01:27:25.522Z"
   },
   {
    "duration": 919,
    "start_time": "2024-07-30T01:28:42.303Z"
   },
   {
    "duration": 984,
    "start_time": "2024-07-30T01:29:44.670Z"
   },
   {
    "duration": 983,
    "start_time": "2024-07-30T01:30:51.728Z"
   },
   {
    "duration": 980,
    "start_time": "2024-07-30T01:31:46.254Z"
   },
   {
    "duration": 990,
    "start_time": "2024-07-30T01:32:10.933Z"
   },
   {
    "duration": 321,
    "start_time": "2024-07-30T12:28:33.240Z"
   },
   {
    "duration": 1224,
    "start_time": "2024-07-30T12:28:43.868Z"
   },
   {
    "duration": 56,
    "start_time": "2024-07-30T12:28:45.096Z"
   },
   {
    "duration": 28,
    "start_time": "2024-07-30T12:28:45.155Z"
   },
   {
    "duration": 16,
    "start_time": "2024-07-30T12:28:45.188Z"
   },
   {
    "duration": 11,
    "start_time": "2024-07-30T12:28:45.207Z"
   },
   {
    "duration": 26,
    "start_time": "2024-07-30T12:28:45.221Z"
   },
   {
    "duration": 53,
    "start_time": "2024-07-30T12:28:45.250Z"
   },
   {
    "duration": 32,
    "start_time": "2024-07-30T12:28:45.307Z"
   },
   {
    "duration": 6,
    "start_time": "2024-07-30T12:28:45.342Z"
   },
   {
    "duration": 49,
    "start_time": "2024-07-30T12:28:45.355Z"
   },
   {
    "duration": 10,
    "start_time": "2024-07-30T12:28:45.408Z"
   },
   {
    "duration": 45,
    "start_time": "2024-07-30T12:28:45.421Z"
   },
   {
    "duration": 950,
    "start_time": "2024-07-30T12:28:45.501Z"
   },
   {
    "duration": 61,
    "start_time": "2024-07-30T12:28:46.455Z"
   },
   {
    "duration": 1188,
    "start_time": "2024-07-30T12:28:46.520Z"
   },
   {
    "duration": 298,
    "start_time": "2024-07-30T12:28:47.715Z"
   },
   {
    "duration": 5,
    "start_time": "2024-07-30T12:29:08.572Z"
   },
   {
    "duration": 36,
    "start_time": "2024-07-30T12:29:08.636Z"
   },
   {
    "duration": 23,
    "start_time": "2024-07-30T12:29:08.676Z"
   },
   {
    "duration": 7,
    "start_time": "2024-07-30T12:29:08.702Z"
   },
   {
    "duration": 10,
    "start_time": "2024-07-30T12:29:08.712Z"
   },
   {
    "duration": 23,
    "start_time": "2024-07-30T12:29:08.727Z"
   },
   {
    "duration": 8,
    "start_time": "2024-07-30T12:29:08.753Z"
   },
   {
    "duration": 33,
    "start_time": "2024-07-30T12:29:08.803Z"
   },
   {
    "duration": 6,
    "start_time": "2024-07-30T12:29:08.839Z"
   },
   {
    "duration": 13,
    "start_time": "2024-07-30T12:29:08.848Z"
   },
   {
    "duration": 47,
    "start_time": "2024-07-30T12:29:08.863Z"
   },
   {
    "duration": 44,
    "start_time": "2024-07-30T12:29:08.914Z"
   },
   {
    "duration": 954,
    "start_time": "2024-07-30T12:29:08.961Z"
   },
   {
    "duration": 81,
    "start_time": "2024-07-30T12:29:09.919Z"
   },
   {
    "duration": 1091,
    "start_time": "2024-07-30T12:29:10.011Z"
   },
   {
    "duration": 103,
    "start_time": "2024-07-30T12:29:11.105Z"
   },
   {
    "duration": 29,
    "start_time": "2024-07-30T12:30:08.149Z"
   },
   {
    "duration": 26,
    "start_time": "2024-07-30T12:30:24.052Z"
   },
   {
    "duration": 25,
    "start_time": "2024-07-30T12:31:32.545Z"
   },
   {
    "duration": 24,
    "start_time": "2024-07-30T12:31:56.565Z"
   },
   {
    "duration": 30,
    "start_time": "2024-07-30T12:35:12.221Z"
   },
   {
    "duration": 29,
    "start_time": "2024-07-30T12:35:20.751Z"
   },
   {
    "duration": 6,
    "start_time": "2024-07-30T12:40:21.668Z"
   },
   {
    "duration": 23,
    "start_time": "2024-07-30T12:41:34.439Z"
   },
   {
    "duration": 94,
    "start_time": "2024-07-30T12:43:04.612Z"
   },
   {
    "duration": 183,
    "start_time": "2024-07-30T12:43:38.689Z"
   },
   {
    "duration": 6,
    "start_time": "2024-07-30T12:43:57.659Z"
   },
   {
    "duration": 43,
    "start_time": "2024-07-30T12:43:57.669Z"
   },
   {
    "duration": 23,
    "start_time": "2024-07-30T12:43:57.715Z"
   },
   {
    "duration": 6,
    "start_time": "2024-07-30T12:43:57.741Z"
   },
   {
    "duration": 11,
    "start_time": "2024-07-30T12:43:57.752Z"
   },
   {
    "duration": 25,
    "start_time": "2024-07-30T12:43:57.803Z"
   },
   {
    "duration": 7,
    "start_time": "2024-07-30T12:43:57.831Z"
   },
   {
    "duration": 68,
    "start_time": "2024-07-30T12:43:57.842Z"
   },
   {
    "duration": 7,
    "start_time": "2024-07-30T12:43:57.912Z"
   },
   {
    "duration": 14,
    "start_time": "2024-07-30T12:43:57.922Z"
   },
   {
    "duration": 11,
    "start_time": "2024-07-30T12:43:57.940Z"
   },
   {
    "duration": 83,
    "start_time": "2024-07-30T12:43:57.954Z"
   },
   {
    "duration": 973,
    "start_time": "2024-07-30T12:43:58.040Z"
   },
   {
    "duration": 39,
    "start_time": "2024-07-30T12:43:59.019Z"
   },
   {
    "duration": 1143,
    "start_time": "2024-07-30T12:43:59.060Z"
   },
   {
    "duration": 111,
    "start_time": "2024-07-30T12:44:00.208Z"
   },
   {
    "duration": 124,
    "start_time": "2024-07-30T12:44:00.322Z"
   },
   {
    "duration": 79,
    "start_time": "2024-07-30T12:44:12.039Z"
   },
   {
    "duration": 79,
    "start_time": "2024-07-30T12:46:17.251Z"
   },
   {
    "duration": 83,
    "start_time": "2024-07-30T12:49:27.346Z"
   },
   {
    "duration": 76,
    "start_time": "2024-07-30T12:52:36.192Z"
   },
   {
    "duration": 1029,
    "start_time": "2024-07-30T12:53:26.950Z"
   },
   {
    "duration": 1913,
    "start_time": "2024-07-30T12:54:59.749Z"
   },
   {
    "duration": 2007,
    "start_time": "2024-07-30T12:57:16.895Z"
   },
   {
    "duration": 45,
    "start_time": "2024-07-30T12:59:50.205Z"
   },
   {
    "duration": 942,
    "start_time": "2024-07-30T13:00:36.888Z"
   },
   {
    "duration": 951,
    "start_time": "2024-07-30T13:00:49.196Z"
   },
   {
    "duration": 997,
    "start_time": "2024-07-30T13:00:52.650Z"
   },
   {
    "duration": 1006,
    "start_time": "2024-07-30T13:01:38.103Z"
   },
   {
    "duration": 1029,
    "start_time": "2024-07-30T13:02:59.198Z"
   },
   {
    "duration": 1025,
    "start_time": "2024-07-30T13:05:06.880Z"
   },
   {
    "duration": 1018,
    "start_time": "2024-07-30T13:06:22.637Z"
   },
   {
    "duration": 1036,
    "start_time": "2024-07-30T13:07:15.512Z"
   },
   {
    "duration": 1969,
    "start_time": "2024-07-30T13:07:51.708Z"
   },
   {
    "duration": 479,
    "start_time": "2024-07-30T13:16:29.179Z"
   },
   {
    "duration": 79,
    "start_time": "2024-07-30T13:17:06.146Z"
   },
   {
    "duration": 126,
    "start_time": "2024-07-30T13:17:28.377Z"
   },
   {
    "duration": 79,
    "start_time": "2024-07-30T13:17:40.161Z"
   },
   {
    "duration": 101,
    "start_time": "2024-07-30T13:20:02.531Z"
   },
   {
    "duration": 104,
    "start_time": "2024-07-30T13:20:42.886Z"
   },
   {
    "duration": 104,
    "start_time": "2024-07-30T13:20:55.961Z"
   },
   {
    "duration": 103,
    "start_time": "2024-07-30T13:21:05.683Z"
   },
   {
    "duration": 2232,
    "start_time": "2024-07-30T13:24:36.235Z"
   },
   {
    "duration": 2236,
    "start_time": "2024-07-30T13:25:05.630Z"
   },
   {
    "duration": 2206,
    "start_time": "2024-07-30T13:26:41.630Z"
   },
   {
    "duration": 2212,
    "start_time": "2024-07-30T13:27:26.446Z"
   },
   {
    "duration": 2409,
    "start_time": "2024-07-30T13:30:38.814Z"
   },
   {
    "duration": 2404,
    "start_time": "2024-07-30T13:37:02.565Z"
   },
   {
    "duration": 6,
    "start_time": "2024-07-30T13:42:21.531Z"
   },
   {
    "duration": 10,
    "start_time": "2024-07-30T13:44:48.725Z"
   },
   {
    "duration": 11,
    "start_time": "2024-07-30T13:45:17.625Z"
   },
   {
    "duration": 24,
    "start_time": "2024-07-30T13:46:41.235Z"
   },
   {
    "duration": 63,
    "start_time": "2024-07-30T13:47:45.349Z"
   },
   {
    "duration": 34,
    "start_time": "2024-07-30T13:47:53.199Z"
   },
   {
    "duration": 30,
    "start_time": "2024-07-30T13:48:24.333Z"
   },
   {
    "duration": 63,
    "start_time": "2024-07-30T13:49:14.953Z"
   },
   {
    "duration": 21,
    "start_time": "2024-07-30T13:56:44.127Z"
   },
   {
    "duration": 5485,
    "start_time": "2024-07-30T15:10:31.857Z"
   },
   {
    "duration": 137,
    "start_time": "2024-07-30T15:12:27.752Z"
   },
   {
    "duration": 488,
    "start_time": "2024-07-30T15:13:25.857Z"
   },
   {
    "duration": 6,
    "start_time": "2024-07-30T15:13:33.277Z"
   },
   {
    "duration": 57,
    "start_time": "2024-07-30T15:13:33.287Z"
   },
   {
    "duration": 24,
    "start_time": "2024-07-30T15:13:33.348Z"
   },
   {
    "duration": 6,
    "start_time": "2024-07-30T15:13:33.375Z"
   },
   {
    "duration": 13,
    "start_time": "2024-07-30T15:13:33.394Z"
   },
   {
    "duration": 31,
    "start_time": "2024-07-30T15:13:33.411Z"
   },
   {
    "duration": 7,
    "start_time": "2024-07-30T15:13:33.446Z"
   },
   {
    "duration": 65,
    "start_time": "2024-07-30T15:13:33.457Z"
   },
   {
    "duration": 7,
    "start_time": "2024-07-30T15:13:33.525Z"
   },
   {
    "duration": 4,
    "start_time": "2024-07-30T15:13:33.536Z"
   },
   {
    "duration": 915,
    "start_time": "2024-07-30T15:13:33.543Z"
   },
   {
    "duration": 0,
    "start_time": "2024-07-30T15:13:34.462Z"
   },
   {
    "duration": 0,
    "start_time": "2024-07-30T15:13:34.463Z"
   },
   {
    "duration": 0,
    "start_time": "2024-07-30T15:13:34.465Z"
   },
   {
    "duration": 0,
    "start_time": "2024-07-30T15:13:34.467Z"
   },
   {
    "duration": 0,
    "start_time": "2024-07-30T15:13:34.468Z"
   },
   {
    "duration": 0,
    "start_time": "2024-07-30T15:13:34.470Z"
   },
   {
    "duration": 0,
    "start_time": "2024-07-30T15:13:34.472Z"
   },
   {
    "duration": 0,
    "start_time": "2024-07-30T15:13:34.474Z"
   },
   {
    "duration": 274,
    "start_time": "2024-07-30T15:13:57.563Z"
   },
   {
    "duration": 539,
    "start_time": "2024-07-30T15:14:05.551Z"
   },
   {
    "duration": 111,
    "start_time": "2024-07-30T15:14:30.233Z"
   },
   {
    "duration": 239,
    "start_time": "2024-07-30T15:14:44.834Z"
   },
   {
    "duration": 624,
    "start_time": "2024-07-30T15:14:58.165Z"
   },
   {
    "duration": 37,
    "start_time": "2024-07-30T15:19:43.146Z"
   },
   {
    "duration": 6,
    "start_time": "2024-07-30T15:19:48.331Z"
   },
   {
    "duration": 36,
    "start_time": "2024-07-30T15:19:48.341Z"
   },
   {
    "duration": 24,
    "start_time": "2024-07-30T15:19:48.380Z"
   },
   {
    "duration": 6,
    "start_time": "2024-07-30T15:19:48.408Z"
   },
   {
    "duration": 9,
    "start_time": "2024-07-30T15:19:48.420Z"
   },
   {
    "duration": 62,
    "start_time": "2024-07-30T15:19:48.432Z"
   },
   {
    "duration": 7,
    "start_time": "2024-07-30T15:19:48.497Z"
   },
   {
    "duration": 31,
    "start_time": "2024-07-30T15:19:48.508Z"
   },
   {
    "duration": 7,
    "start_time": "2024-07-30T15:19:48.542Z"
   },
   {
    "duration": 3,
    "start_time": "2024-07-30T15:19:48.592Z"
   },
   {
    "duration": 624,
    "start_time": "2024-07-30T15:19:48.598Z"
   },
   {
    "duration": 14,
    "start_time": "2024-07-30T15:19:49.225Z"
   },
   {
    "duration": 49,
    "start_time": "2024-07-30T15:19:49.242Z"
   },
   {
    "duration": 1048,
    "start_time": "2024-07-30T15:19:49.297Z"
   },
   {
    "duration": 1112,
    "start_time": "2024-07-30T15:19:50.348Z"
   },
   {
    "duration": 102,
    "start_time": "2024-07-30T15:19:51.492Z"
   },
   {
    "duration": 2000,
    "start_time": "2024-07-30T15:19:51.596Z"
   },
   {
    "duration": 2454,
    "start_time": "2024-07-30T15:19:53.599Z"
   },
   {
    "duration": 83,
    "start_time": "2024-07-30T15:19:56.057Z"
   },
   {
    "duration": 4615,
    "start_time": "2024-07-30T15:22:41.549Z"
   },
   {
    "duration": 36,
    "start_time": "2024-07-30T15:26:00.938Z"
   },
   {
    "duration": 4608,
    "start_time": "2024-07-30T15:26:42.112Z"
   },
   {
    "duration": 4021,
    "start_time": "2024-07-30T15:27:04.893Z"
   },
   {
    "duration": 2105,
    "start_time": "2024-07-30T15:27:08.917Z"
   },
   {
    "duration": 1,
    "start_time": "2024-07-30T15:27:11.026Z"
   },
   {
    "duration": 0,
    "start_time": "2024-07-30T15:27:11.029Z"
   },
   {
    "duration": 0,
    "start_time": "2024-07-30T15:27:11.031Z"
   },
   {
    "duration": 0,
    "start_time": "2024-07-30T15:27:11.033Z"
   },
   {
    "duration": 0,
    "start_time": "2024-07-30T15:27:11.035Z"
   },
   {
    "duration": 0,
    "start_time": "2024-07-30T15:27:11.037Z"
   },
   {
    "duration": 0,
    "start_time": "2024-07-30T15:27:11.041Z"
   },
   {
    "duration": 0,
    "start_time": "2024-07-30T15:27:11.044Z"
   },
   {
    "duration": 0,
    "start_time": "2024-07-30T15:27:11.047Z"
   },
   {
    "duration": 0,
    "start_time": "2024-07-30T15:27:11.049Z"
   },
   {
    "duration": 0,
    "start_time": "2024-07-30T15:27:11.051Z"
   },
   {
    "duration": 1,
    "start_time": "2024-07-30T15:27:11.053Z"
   },
   {
    "duration": 0,
    "start_time": "2024-07-30T15:27:11.092Z"
   },
   {
    "duration": 0,
    "start_time": "2024-07-30T15:27:11.094Z"
   },
   {
    "duration": 0,
    "start_time": "2024-07-30T15:27:11.095Z"
   },
   {
    "duration": 0,
    "start_time": "2024-07-30T15:27:11.097Z"
   },
   {
    "duration": 0,
    "start_time": "2024-07-30T15:27:11.098Z"
   },
   {
    "duration": 0,
    "start_time": "2024-07-30T15:27:11.100Z"
   },
   {
    "duration": 6833,
    "start_time": "2024-07-30T15:29:37.188Z"
   },
   {
    "duration": 32,
    "start_time": "2024-07-30T15:29:44.026Z"
   },
   {
    "duration": 1695,
    "start_time": "2024-07-30T15:29:59.149Z"
   },
   {
    "duration": 330,
    "start_time": "2024-07-30T18:18:56.133Z"
   },
   {
    "duration": 22,
    "start_time": "2024-07-30T18:19:09.388Z"
   },
   {
    "duration": 5540,
    "start_time": "2024-07-30T18:19:13.585Z"
   },
   {
    "duration": 4497,
    "start_time": "2024-07-30T18:19:55.008Z"
   },
   {
    "duration": 6903,
    "start_time": "2024-07-30T18:20:44.424Z"
   },
   {
    "duration": 32,
    "start_time": "2024-07-30T18:20:54.593Z"
   },
   {
    "duration": 9,
    "start_time": "2024-07-30T18:23:21.146Z"
   },
   {
    "duration": 7,
    "start_time": "2024-07-30T18:27:29.799Z"
   },
   {
    "duration": 31,
    "start_time": "2024-07-30T18:28:05.501Z"
   },
   {
    "duration": 1910,
    "start_time": "2024-07-30T18:43:21.742Z"
   },
   {
    "duration": 65,
    "start_time": "2024-07-30T18:43:28.571Z"
   },
   {
    "duration": 37,
    "start_time": "2024-07-30T18:43:32.917Z"
   },
   {
    "duration": 7,
    "start_time": "2024-07-30T18:43:36.256Z"
   },
   {
    "duration": 11,
    "start_time": "2024-07-30T18:43:38.221Z"
   },
   {
    "duration": 22,
    "start_time": "2024-07-30T18:43:40.425Z"
   },
   {
    "duration": 7,
    "start_time": "2024-07-30T18:43:43.057Z"
   },
   {
    "duration": 30,
    "start_time": "2024-07-30T18:43:47.594Z"
   },
   {
    "duration": 6,
    "start_time": "2024-07-30T18:43:50.430Z"
   },
   {
    "duration": 13,
    "start_time": "2024-07-30T18:43:56.393Z"
   },
   {
    "duration": 11,
    "start_time": "2024-07-30T18:43:58.938Z"
   },
   {
    "duration": 1178,
    "start_time": "2024-07-30T18:44:01.403Z"
   },
   {
    "duration": 1225,
    "start_time": "2024-07-30T18:44:05.447Z"
   },
   {
    "duration": 22,
    "start_time": "2024-07-30T18:44:20.849Z"
   },
   {
    "duration": 2181,
    "start_time": "2024-07-30T18:44:26.705Z"
   },
   {
    "duration": 21,
    "start_time": "2024-07-30T18:44:41.314Z"
   },
   {
    "duration": 96,
    "start_time": "2024-07-30T18:47:26.445Z"
   },
   {
    "duration": 2140,
    "start_time": "2024-07-30T18:54:13.162Z"
   },
   {
    "duration": 6,
    "start_time": "2024-07-30T18:55:19.222Z"
   },
   {
    "duration": 1960,
    "start_time": "2024-07-30T18:55:31.357Z"
   },
   {
    "duration": 1437,
    "start_time": "2024-07-30T18:59:04.142Z"
   },
   {
    "duration": 1380,
    "start_time": "2024-07-30T18:59:13.903Z"
   },
   {
    "duration": 1344,
    "start_time": "2024-07-30T18:59:44.244Z"
   },
   {
    "duration": 1364,
    "start_time": "2024-07-30T19:01:00.029Z"
   },
   {
    "duration": 4594,
    "start_time": "2024-07-30T19:07:24.995Z"
   },
   {
    "duration": 4180,
    "start_time": "2024-07-30T19:09:02.652Z"
   },
   {
    "duration": 804,
    "start_time": "2024-07-30T19:15:27.021Z"
   },
   {
    "duration": 524,
    "start_time": "2024-07-30T19:52:05.409Z"
   },
   {
    "duration": 1208,
    "start_time": "2024-07-30T19:53:10.634Z"
   },
   {
    "duration": 1222,
    "start_time": "2024-07-30T19:53:54.016Z"
   },
   {
    "duration": 20,
    "start_time": "2024-07-30T19:56:51.534Z"
   },
   {
    "duration": 8,
    "start_time": "2024-07-30T19:57:12.385Z"
   },
   {
    "duration": 16,
    "start_time": "2024-07-30T19:57:51.120Z"
   },
   {
    "duration": 9,
    "start_time": "2024-07-30T19:57:55.217Z"
   },
   {
    "duration": 18,
    "start_time": "2024-07-30T19:57:58.460Z"
   },
   {
    "duration": 6,
    "start_time": "2024-07-30T19:58:16.441Z"
   },
   {
    "duration": 37,
    "start_time": "2024-07-30T19:58:16.462Z"
   },
   {
    "duration": 22,
    "start_time": "2024-07-30T19:58:16.504Z"
   },
   {
    "duration": 5,
    "start_time": "2024-07-30T19:58:16.529Z"
   },
   {
    "duration": 36,
    "start_time": "2024-07-30T19:58:16.538Z"
   },
   {
    "duration": 20,
    "start_time": "2024-07-30T19:58:16.578Z"
   },
   {
    "duration": 8,
    "start_time": "2024-07-30T19:58:16.601Z"
   },
   {
    "duration": 74,
    "start_time": "2024-07-30T19:58:16.612Z"
   },
   {
    "duration": 7,
    "start_time": "2024-07-30T19:58:16.690Z"
   },
   {
    "duration": 4,
    "start_time": "2024-07-30T19:58:16.701Z"
   },
   {
    "duration": 1281,
    "start_time": "2024-07-30T19:58:16.709Z"
   },
   {
    "duration": 14,
    "start_time": "2024-07-30T19:58:17.993Z"
   },
   {
    "duration": 10,
    "start_time": "2024-07-30T19:58:18.009Z"
   },
   {
    "duration": 1970,
    "start_time": "2024-07-30T19:58:18.024Z"
   },
   {
    "duration": 0,
    "start_time": "2024-07-30T19:58:19.997Z"
   },
   {
    "duration": 0,
    "start_time": "2024-07-30T19:58:19.999Z"
   },
   {
    "duration": 0,
    "start_time": "2024-07-30T19:58:20.000Z"
   },
   {
    "duration": 0,
    "start_time": "2024-07-30T19:58:20.003Z"
   },
   {
    "duration": 0,
    "start_time": "2024-07-30T19:58:20.005Z"
   },
   {
    "duration": 13,
    "start_time": "2024-07-30T19:59:13.101Z"
   },
   {
    "duration": 1514,
    "start_time": "2024-07-30T19:59:17.917Z"
   },
   {
    "duration": 10,
    "start_time": "2024-07-30T19:59:45.075Z"
   },
   {
    "duration": 23,
    "start_time": "2024-07-30T20:00:37.849Z"
   },
   {
    "duration": 1420,
    "start_time": "2024-07-30T20:01:12.456Z"
   },
   {
    "duration": 7,
    "start_time": "2024-07-30T20:01:28.081Z"
   },
   {
    "duration": 36,
    "start_time": "2024-07-30T20:01:28.092Z"
   },
   {
    "duration": 37,
    "start_time": "2024-07-30T20:01:28.131Z"
   },
   {
    "duration": 7,
    "start_time": "2024-07-30T20:01:28.172Z"
   },
   {
    "duration": 10,
    "start_time": "2024-07-30T20:01:28.292Z"
   },
   {
    "duration": 23,
    "start_time": "2024-07-30T20:01:28.305Z"
   },
   {
    "duration": 7,
    "start_time": "2024-07-30T20:01:28.332Z"
   },
   {
    "duration": 56,
    "start_time": "2024-07-30T20:01:28.343Z"
   },
   {
    "duration": 7,
    "start_time": "2024-07-30T20:01:28.404Z"
   },
   {
    "duration": 3,
    "start_time": "2024-07-30T20:01:28.415Z"
   },
   {
    "duration": 1234,
    "start_time": "2024-07-30T20:01:28.421Z"
   },
   {
    "duration": 18,
    "start_time": "2024-07-30T20:01:29.658Z"
   },
   {
    "duration": 9,
    "start_time": "2024-07-30T20:01:29.680Z"
   },
   {
    "duration": 1391,
    "start_time": "2024-07-30T20:01:29.692Z"
   },
   {
    "duration": 1336,
    "start_time": "2024-07-30T20:01:31.088Z"
   },
   {
    "duration": 61,
    "start_time": "2024-07-30T20:01:32.427Z"
   },
   {
    "duration": 2186,
    "start_time": "2024-07-30T20:01:32.491Z"
   },
   {
    "duration": 2102,
    "start_time": "2024-07-30T20:01:34.687Z"
   },
   {
    "duration": 4330,
    "start_time": "2024-07-30T20:01:36.793Z"
   },
   {
    "duration": 7,
    "start_time": "2024-07-30T20:03:21.781Z"
   },
   {
    "duration": 86931,
    "start_time": "2024-07-30T20:04:55.688Z"
   },
   {
    "duration": 26,
    "start_time": "2024-07-30T20:10:06.509Z"
   },
   {
    "duration": 14,
    "start_time": "2024-07-30T20:10:13.002Z"
   },
   {
    "duration": 18,
    "start_time": "2024-07-30T20:10:20.201Z"
   },
   {
    "duration": 6,
    "start_time": "2024-07-30T20:12:14.717Z"
   },
   {
    "duration": 27,
    "start_time": "2024-07-30T20:13:00.253Z"
   },
   {
    "duration": 7,
    "start_time": "2024-07-30T20:13:09.470Z"
   },
   {
    "duration": 26,
    "start_time": "2024-07-30T20:13:15.701Z"
   },
   {
    "duration": 26,
    "start_time": "2024-07-30T20:14:22.618Z"
   },
   {
    "duration": 25,
    "start_time": "2024-07-30T20:14:32.337Z"
   },
   {
    "duration": 6279,
    "start_time": "2024-07-30T21:33:51.342Z"
   },
   {
    "duration": 38,
    "start_time": "2024-07-30T21:41:22.821Z"
   },
   {
    "duration": 41,
    "start_time": "2024-07-30T21:41:31.105Z"
   },
   {
    "duration": 0,
    "start_time": "2024-07-30T21:41:31.151Z"
   },
   {
    "duration": 0,
    "start_time": "2024-07-30T21:41:31.153Z"
   },
   {
    "duration": 0,
    "start_time": "2024-07-30T21:41:31.156Z"
   },
   {
    "duration": 0,
    "start_time": "2024-07-30T21:41:31.158Z"
   },
   {
    "duration": 0,
    "start_time": "2024-07-30T21:41:31.161Z"
   },
   {
    "duration": 0,
    "start_time": "2024-07-30T21:41:31.168Z"
   },
   {
    "duration": 0,
    "start_time": "2024-07-30T21:41:31.169Z"
   },
   {
    "duration": 0,
    "start_time": "2024-07-30T21:41:31.172Z"
   },
   {
    "duration": 0,
    "start_time": "2024-07-30T21:41:31.174Z"
   },
   {
    "duration": 0,
    "start_time": "2024-07-30T21:41:31.175Z"
   },
   {
    "duration": 0,
    "start_time": "2024-07-30T21:41:31.177Z"
   },
   {
    "duration": 0,
    "start_time": "2024-07-30T21:41:31.180Z"
   },
   {
    "duration": 0,
    "start_time": "2024-07-30T21:41:31.181Z"
   },
   {
    "duration": 0,
    "start_time": "2024-07-30T21:41:31.183Z"
   },
   {
    "duration": 0,
    "start_time": "2024-07-30T21:41:31.185Z"
   },
   {
    "duration": 0,
    "start_time": "2024-07-30T21:41:31.186Z"
   },
   {
    "duration": 0,
    "start_time": "2024-07-30T21:41:31.187Z"
   },
   {
    "duration": 0,
    "start_time": "2024-07-30T21:41:31.188Z"
   },
   {
    "duration": 28,
    "start_time": "2024-07-30T21:41:38.021Z"
   },
   {
    "duration": 59,
    "start_time": "2024-07-30T21:41:57.055Z"
   },
   {
    "duration": 9,
    "start_time": "2024-07-30T21:42:02.303Z"
   },
   {
    "duration": 55,
    "start_time": "2024-07-30T21:42:02.317Z"
   },
   {
    "duration": 29,
    "start_time": "2024-07-30T21:42:02.376Z"
   },
   {
    "duration": 25,
    "start_time": "2024-07-30T21:42:02.408Z"
   },
   {
    "duration": 10,
    "start_time": "2024-07-30T21:42:02.439Z"
   },
   {
    "duration": 29,
    "start_time": "2024-07-30T21:42:02.452Z"
   },
   {
    "duration": 49,
    "start_time": "2024-07-30T21:42:02.484Z"
   },
   {
    "duration": 39,
    "start_time": "2024-07-30T21:42:02.536Z"
   },
   {
    "duration": 8,
    "start_time": "2024-07-30T21:42:02.578Z"
   },
   {
    "duration": 1261,
    "start_time": "2024-07-30T21:42:02.590Z"
   },
   {
    "duration": 12,
    "start_time": "2024-07-30T21:42:03.855Z"
   },
   {
    "duration": 10,
    "start_time": "2024-07-30T21:42:03.870Z"
   },
   {
    "duration": 1259,
    "start_time": "2024-07-30T21:42:03.884Z"
   },
   {
    "duration": 1156,
    "start_time": "2024-07-30T21:42:05.156Z"
   },
   {
    "duration": 118,
    "start_time": "2024-07-30T21:42:06.315Z"
   },
   {
    "duration": 1442,
    "start_time": "2024-07-30T21:42:06.436Z"
   },
   {
    "duration": 174,
    "start_time": "2024-07-30T21:42:07.881Z"
   },
   {
    "duration": 0,
    "start_time": "2024-07-30T21:42:08.059Z"
   },
   {
    "duration": 0,
    "start_time": "2024-07-30T21:42:08.060Z"
   },
   {
    "duration": 1431,
    "start_time": "2024-07-30T21:42:51.411Z"
   },
   {
    "duration": 312,
    "start_time": "2024-07-30T21:51:12.616Z"
   },
   {
    "duration": 1749,
    "start_time": "2024-07-30T21:51:19.033Z"
   },
   {
    "duration": 46,
    "start_time": "2024-07-30T21:51:20.787Z"
   },
   {
    "duration": 26,
    "start_time": "2024-07-30T21:51:20.836Z"
   },
   {
    "duration": 5,
    "start_time": "2024-07-30T21:51:20.865Z"
   },
   {
    "duration": 10,
    "start_time": "2024-07-30T21:51:20.875Z"
   },
   {
    "duration": 68,
    "start_time": "2024-07-30T21:51:20.888Z"
   },
   {
    "duration": 7,
    "start_time": "2024-07-30T21:51:20.959Z"
   },
   {
    "duration": 69,
    "start_time": "2024-07-30T21:51:20.968Z"
   },
   {
    "duration": 6,
    "start_time": "2024-07-30T21:51:21.041Z"
   },
   {
    "duration": 1306,
    "start_time": "2024-07-30T21:51:21.051Z"
   },
   {
    "duration": 14,
    "start_time": "2024-07-30T21:51:22.360Z"
   },
   {
    "duration": 11,
    "start_time": "2024-07-30T21:51:22.377Z"
   },
   {
    "duration": 1174,
    "start_time": "2024-07-30T21:51:22.392Z"
   },
   {
    "duration": 1129,
    "start_time": "2024-07-30T21:51:23.571Z"
   },
   {
    "duration": 100,
    "start_time": "2024-07-30T21:51:24.733Z"
   },
   {
    "duration": 1358,
    "start_time": "2024-07-30T21:51:24.836Z"
   },
   {
    "duration": 265,
    "start_time": "2024-07-30T21:51:26.197Z"
   },
   {
    "duration": 0,
    "start_time": "2024-07-30T21:51:26.465Z"
   },
   {
    "duration": 9,
    "start_time": "2024-07-30T21:52:17.238Z"
   },
   {
    "duration": 33,
    "start_time": "2024-07-30T21:53:35.227Z"
   },
   {
    "duration": 3292,
    "start_time": "2024-07-30T21:53:45.947Z"
   },
   {
    "duration": 3808,
    "start_time": "2024-07-30T21:55:27.448Z"
   },
   {
    "duration": 3418,
    "start_time": "2024-07-30T21:57:09.137Z"
   },
   {
    "duration": 16,
    "start_time": "2024-07-30T22:01:19.516Z"
   },
   {
    "duration": 514,
    "start_time": "2024-07-30T22:03:33.622Z"
   },
   {
    "duration": 3270,
    "start_time": "2024-07-30T22:04:36.043Z"
   },
   {
    "duration": 3250,
    "start_time": "2024-07-30T22:04:55.595Z"
   },
   {
    "duration": 3273,
    "start_time": "2024-07-30T22:05:07.967Z"
   },
   {
    "duration": 80882,
    "start_time": "2024-07-30T22:08:09.414Z"
   },
   {
    "duration": 37,
    "start_time": "2024-07-30T22:12:03.652Z"
   },
   {
    "duration": 43,
    "start_time": "2024-07-30T22:12:52.870Z"
   },
   {
    "duration": 8,
    "start_time": "2024-07-30T22:12:57.801Z"
   },
   {
    "duration": 47,
    "start_time": "2024-07-30T22:12:57.814Z"
   },
   {
    "duration": 28,
    "start_time": "2024-07-30T22:12:57.864Z"
   },
   {
    "duration": 7,
    "start_time": "2024-07-30T22:12:57.896Z"
   },
   {
    "duration": 11,
    "start_time": "2024-07-30T22:12:57.934Z"
   },
   {
    "duration": 23,
    "start_time": "2024-07-30T22:12:57.947Z"
   },
   {
    "duration": 7,
    "start_time": "2024-07-30T22:12:57.973Z"
   },
   {
    "duration": 90,
    "start_time": "2024-07-30T22:12:57.982Z"
   },
   {
    "duration": 7,
    "start_time": "2024-07-30T22:12:58.075Z"
   },
   {
    "duration": 1263,
    "start_time": "2024-07-30T22:12:58.086Z"
   },
   {
    "duration": 20,
    "start_time": "2024-07-30T22:12:59.352Z"
   },
   {
    "duration": 10,
    "start_time": "2024-07-30T22:12:59.374Z"
   },
   {
    "duration": 1179,
    "start_time": "2024-07-30T22:12:59.390Z"
   },
   {
    "duration": 1175,
    "start_time": "2024-07-30T22:13:00.578Z"
   },
   {
    "duration": 81,
    "start_time": "2024-07-30T22:13:01.755Z"
   },
   {
    "duration": 1492,
    "start_time": "2024-07-30T22:13:01.840Z"
   },
   {
    "duration": 3409,
    "start_time": "2024-07-30T22:13:03.335Z"
   },
   {
    "duration": 84272,
    "start_time": "2024-07-30T22:13:06.748Z"
   },
   {
    "duration": 0,
    "start_time": "2024-07-30T22:14:31.077Z"
   },
   {
    "duration": 2505,
    "start_time": "2024-07-30T22:14:47.174Z"
   },
   {
    "duration": 1236957,
    "start_time": "2024-07-30T22:51:05.918Z"
   },
   {
    "duration": 3320,
    "start_time": "2024-07-30T23:26:19.672Z"
   },
   {
    "duration": 2434,
    "start_time": "2024-07-30T23:27:07.206Z"
   },
   {
    "duration": 52,
    "start_time": "2024-07-30T23:32:43.325Z"
   },
   {
    "duration": 55,
    "start_time": "2024-07-30T23:34:38.381Z"
   },
   {
    "duration": 37,
    "start_time": "2024-07-30T23:35:04.775Z"
   },
   {
    "duration": 27,
    "start_time": "2024-07-30T23:36:18.492Z"
   },
   {
    "duration": 5,
    "start_time": "2024-07-30T23:36:27.006Z"
   },
   {
    "duration": 12,
    "start_time": "2024-07-30T23:36:46.050Z"
   },
   {
    "duration": 15,
    "start_time": "2024-07-30T23:40:57.515Z"
   },
   {
    "duration": 27,
    "start_time": "2024-07-30T23:41:53.803Z"
   },
   {
    "duration": 7,
    "start_time": "2024-07-30T23:42:25.506Z"
   },
   {
    "duration": 27,
    "start_time": "2024-07-30T23:42:34.395Z"
   },
   {
    "duration": 37,
    "start_time": "2024-07-30T23:43:09.505Z"
   },
   {
    "duration": 44,
    "start_time": "2024-07-30T23:43:32.214Z"
   },
   {
    "duration": 1203,
    "start_time": "2024-07-30T23:43:42.662Z"
   },
   {
    "duration": 1108,
    "start_time": "2024-07-30T23:43:52.041Z"
   },
   {
    "duration": 22,
    "start_time": "2024-07-30T23:43:57.179Z"
   },
   {
    "duration": 1458,
    "start_time": "2024-07-30T23:43:59.799Z"
   },
   {
    "duration": 3628,
    "start_time": "2024-07-30T23:44:05.831Z"
   },
   {
    "duration": 2670,
    "start_time": "2024-07-30T23:44:13.962Z"
   },
   {
    "duration": 2438,
    "start_time": "2024-07-30T23:48:37.162Z"
   },
   {
    "duration": 32,
    "start_time": "2024-07-30T23:49:44.410Z"
   },
   {
    "duration": 36,
    "start_time": "2024-07-30T23:50:31.447Z"
   },
   {
    "duration": 30,
    "start_time": "2024-07-30T23:50:53.724Z"
   },
   {
    "duration": 1320,
    "start_time": "2024-07-30T23:51:01.229Z"
   },
   {
    "duration": 1191,
    "start_time": "2024-07-30T23:51:12.393Z"
   },
   {
    "duration": 14,
    "start_time": "2024-07-30T23:51:17.910Z"
   },
   {
    "duration": 1442,
    "start_time": "2024-07-30T23:51:20.737Z"
   },
   {
    "duration": 3592,
    "start_time": "2024-07-30T23:51:25.974Z"
   },
   {
    "duration": 2669,
    "start_time": "2024-07-30T23:51:32.790Z"
   },
   {
    "duration": 20,
    "start_time": "2024-07-30T23:56:43.574Z"
   },
   {
    "duration": 1229,
    "start_time": "2024-07-30T23:56:49.634Z"
   },
   {
    "duration": 10,
    "start_time": "2024-07-30T23:58:29.089Z"
   },
   {
    "duration": 1203,
    "start_time": "2024-07-30T23:58:34.977Z"
   },
   {
    "duration": 1001,
    "start_time": "2024-07-30T23:58:39.635Z"
   },
   {
    "duration": 232,
    "start_time": "2024-07-30T23:58:42.915Z"
   },
   {
    "duration": 115,
    "start_time": "2024-07-30T23:58:52.480Z"
   },
   {
    "duration": 12,
    "start_time": "2024-07-30T23:59:26.360Z"
   },
   {
    "duration": 5,
    "start_time": "2024-07-30T23:59:28.920Z"
   },
   {
    "duration": 28,
    "start_time": "2024-07-30T23:59:44.577Z"
   },
   {
    "duration": 6,
    "start_time": "2024-07-30T23:59:50.145Z"
   },
   {
    "duration": 1339,
    "start_time": "2024-07-30T23:59:53.125Z"
   },
   {
    "duration": 12,
    "start_time": "2024-07-30T23:59:57.368Z"
   },
   {
    "duration": 9,
    "start_time": "2024-07-31T00:00:01.147Z"
   },
   {
    "duration": 1195,
    "start_time": "2024-07-31T00:00:03.983Z"
   },
   {
    "duration": 1050,
    "start_time": "2024-07-31T00:00:10.795Z"
   },
   {
    "duration": 19,
    "start_time": "2024-07-31T00:00:16.290Z"
   },
   {
    "duration": 1350,
    "start_time": "2024-07-31T00:00:19.219Z"
   },
   {
    "duration": 3327,
    "start_time": "2024-07-31T00:00:25.782Z"
   },
   {
    "duration": 2481,
    "start_time": "2024-07-31T00:00:31.778Z"
   },
   {
    "duration": 3372,
    "start_time": "2024-07-31T00:01:30.029Z"
   },
   {
    "duration": 38,
    "start_time": "2024-07-31T00:38:34.522Z"
   },
   {
    "duration": 7,
    "start_time": "2024-07-31T00:38:46.542Z"
   },
   {
    "duration": 33,
    "start_time": "2024-07-31T00:38:50.141Z"
   },
   {
    "duration": 37,
    "start_time": "2024-07-31T00:38:56.284Z"
   },
   {
    "duration": 3304,
    "start_time": "2024-07-31T00:39:13.135Z"
   },
   {
    "duration": 2437,
    "start_time": "2024-07-31T00:39:53.434Z"
   },
   {
    "duration": 333,
    "start_time": "2024-07-31T12:44:58.535Z"
   },
   {
    "duration": 5581,
    "start_time": "2024-07-31T12:45:03.966Z"
   },
   {
    "duration": 50,
    "start_time": "2024-07-31T12:45:09.551Z"
   },
   {
    "duration": 24,
    "start_time": "2024-07-31T12:45:09.604Z"
   },
   {
    "duration": 5,
    "start_time": "2024-07-31T12:45:14.650Z"
   },
   {
    "duration": 10,
    "start_time": "2024-07-31T12:45:15.729Z"
   },
   {
    "duration": 13,
    "start_time": "2024-07-31T12:45:16.636Z"
   },
   {
    "duration": 7,
    "start_time": "2024-07-31T12:45:19.353Z"
   },
   {
    "duration": 32,
    "start_time": "2024-07-31T12:45:21.462Z"
   },
   {
    "duration": 6,
    "start_time": "2024-07-31T12:45:23.822Z"
   },
   {
    "duration": 1257,
    "start_time": "2024-07-31T12:45:26.763Z"
   },
   {
    "duration": 15,
    "start_time": "2024-07-31T12:45:33.803Z"
   },
   {
    "duration": 9,
    "start_time": "2024-07-31T12:45:36.430Z"
   },
   {
    "duration": 1280,
    "start_time": "2024-07-31T12:45:39.806Z"
   },
   {
    "duration": 1073,
    "start_time": "2024-07-31T12:46:51.940Z"
   },
   {
    "duration": 25,
    "start_time": "2024-07-31T12:48:20.366Z"
   },
   {
    "duration": 65399,
    "start_time": "2024-07-31T12:52:27.769Z"
   },
   {
    "duration": 3024,
    "start_time": "2024-07-31T12:54:13.084Z"
   },
   {
    "duration": 975679,
    "start_time": "2024-07-31T12:55:07.641Z"
   },
   {
    "duration": 83300,
    "start_time": "2024-07-31T13:12:06.284Z"
   },
   {
    "duration": 5728179,
    "start_time": "2024-07-31T13:18:26.212Z"
   },
   {
    "duration": 2911,
    "start_time": "2024-07-31T14:58:27.870Z"
   },
   {
    "duration": 6,
    "start_time": "2024-07-31T15:17:09.698Z"
   },
   {
    "duration": 2978,
    "start_time": "2024-07-31T15:17:15.399Z"
   },
   {
    "duration": 3065,
    "start_time": "2024-07-31T15:17:56.591Z"
   },
   {
    "duration": 3031,
    "start_time": "2024-07-31T15:18:07.802Z"
   },
   {
    "duration": 6,
    "start_time": "2024-07-31T15:44:23.553Z"
   },
   {
    "duration": 38,
    "start_time": "2024-07-31T15:44:27.657Z"
   },
   {
    "duration": 21,
    "start_time": "2024-07-31T15:44:30.683Z"
   },
   {
    "duration": 6,
    "start_time": "2024-07-31T15:44:34.841Z"
   },
   {
    "duration": 10,
    "start_time": "2024-07-31T15:44:37.114Z"
   },
   {
    "duration": 12,
    "start_time": "2024-07-31T15:44:39.634Z"
   },
   {
    "duration": 7,
    "start_time": "2024-07-31T15:44:42.525Z"
   },
   {
    "duration": 33,
    "start_time": "2024-07-31T15:44:45.082Z"
   },
   {
    "duration": 7,
    "start_time": "2024-07-31T15:44:48.883Z"
   },
   {
    "duration": 1201,
    "start_time": "2024-07-31T15:44:53.444Z"
   },
   {
    "duration": 13,
    "start_time": "2024-07-31T15:44:59.349Z"
   },
   {
    "duration": 9,
    "start_time": "2024-07-31T15:45:08.620Z"
   },
   {
    "duration": 1249,
    "start_time": "2024-07-31T15:45:12.651Z"
   },
   {
    "duration": 339,
    "start_time": "2024-07-31T18:39:40.425Z"
   },
   {
    "duration": 5404,
    "start_time": "2024-07-31T18:39:47.511Z"
   },
   {
    "duration": 50,
    "start_time": "2024-07-31T18:39:52.922Z"
   },
   {
    "duration": 26,
    "start_time": "2024-07-31T18:39:52.975Z"
   },
   {
    "duration": 35,
    "start_time": "2024-07-31T18:39:55.797Z"
   },
   {
    "duration": 22,
    "start_time": "2024-07-31T18:39:58.325Z"
   },
   {
    "duration": 5,
    "start_time": "2024-07-31T18:40:00.994Z"
   },
   {
    "duration": 11,
    "start_time": "2024-07-31T18:40:03.050Z"
   },
   {
    "duration": 12,
    "start_time": "2024-07-31T18:40:05.035Z"
   },
   {
    "duration": 7,
    "start_time": "2024-07-31T18:40:08.018Z"
   },
   {
    "duration": 33,
    "start_time": "2024-07-31T18:40:10.425Z"
   },
   {
    "duration": 5,
    "start_time": "2024-07-31T18:40:13.258Z"
   },
   {
    "duration": 1218,
    "start_time": "2024-07-31T18:40:16.126Z"
   },
   {
    "duration": 12,
    "start_time": "2024-07-31T18:40:20.481Z"
   },
   {
    "duration": 8,
    "start_time": "2024-07-31T18:40:22.619Z"
   },
   {
    "duration": 1348,
    "start_time": "2024-07-31T18:40:29.508Z"
   },
   {
    "duration": 1061,
    "start_time": "2024-07-31T18:40:37.479Z"
   },
   {
    "duration": 25,
    "start_time": "2024-07-31T18:40:43.666Z"
   },
   {
    "duration": 1476,
    "start_time": "2024-07-31T18:40:49.765Z"
   },
   {
    "duration": 3304,
    "start_time": "2024-07-31T18:41:08.113Z"
   },
   {
    "duration": 5026,
    "start_time": "2024-07-31T18:43:07.030Z"
   },
   {
    "duration": 11,
    "start_time": "2024-07-31T18:46:06.866Z"
   },
   {
    "duration": 8,
    "start_time": "2024-07-31T18:46:10.497Z"
   },
   {
    "duration": 14,
    "start_time": "2024-07-31T18:46:13.470Z"
   },
   {
    "duration": 7,
    "start_time": "2024-07-31T18:46:52.369Z"
   },
   {
    "duration": 7,
    "start_time": "2024-07-31T18:47:05.624Z"
   },
   {
    "duration": 39,
    "start_time": "2024-07-31T18:47:43.937Z"
   },
   {
    "duration": 16,
    "start_time": "2024-07-31T18:47:53.418Z"
   },
   {
    "duration": 15,
    "start_time": "2024-07-31T18:47:57.926Z"
   },
   {
    "duration": 7,
    "start_time": "2024-07-31T18:50:39.032Z"
   },
   {
    "duration": 37,
    "start_time": "2024-07-31T18:50:41.308Z"
   },
   {
    "duration": 21,
    "start_time": "2024-07-31T18:50:44.106Z"
   },
   {
    "duration": 6,
    "start_time": "2024-07-31T18:50:55.835Z"
   },
   {
    "duration": 10,
    "start_time": "2024-07-31T18:50:57.435Z"
   },
   {
    "duration": 12,
    "start_time": "2024-07-31T18:50:59.435Z"
   },
   {
    "duration": 6,
    "start_time": "2024-07-31T18:51:02.034Z"
   },
   {
    "duration": 17,
    "start_time": "2024-07-31T18:51:10.597Z"
   },
   {
    "duration": 39,
    "start_time": "2024-07-31T18:53:28.577Z"
   },
   {
    "duration": 6,
    "start_time": "2024-07-31T18:54:06.034Z"
   },
   {
    "duration": 1200,
    "start_time": "2024-07-31T18:54:08.793Z"
   },
   {
    "duration": 12,
    "start_time": "2024-07-31T18:54:13.341Z"
   },
   {
    "duration": 9,
    "start_time": "2024-07-31T18:54:17.165Z"
   },
   {
    "duration": 307,
    "start_time": "2024-07-31T18:54:21.882Z"
   },
   {
    "duration": 11,
    "start_time": "2024-07-31T18:54:51.420Z"
   },
   {
    "duration": 12,
    "start_time": "2024-07-31T18:55:13.589Z"
   },
   {
    "duration": 11,
    "start_time": "2024-07-31T18:55:21.282Z"
   },
   {
    "duration": 13,
    "start_time": "2024-07-31T18:55:39.336Z"
   },
   {
    "duration": 6,
    "start_time": "2024-07-31T18:55:46.194Z"
   },
   {
    "duration": 210,
    "start_time": "2024-07-31T18:55:48.782Z"
   },
   {
    "duration": 1802,
    "start_time": "2024-07-31T18:56:09.620Z"
   },
   {
    "duration": 37,
    "start_time": "2024-07-31T18:56:14.422Z"
   },
   {
    "duration": 26,
    "start_time": "2024-07-31T18:56:17.301Z"
   },
   {
    "duration": 4,
    "start_time": "2024-07-31T18:56:21.288Z"
   },
   {
    "duration": 11,
    "start_time": "2024-07-31T18:56:22.024Z"
   },
   {
    "duration": 14,
    "start_time": "2024-07-31T18:56:23.188Z"
   },
   {
    "duration": 7,
    "start_time": "2024-07-31T18:56:30.573Z"
   },
   {
    "duration": 679,
    "start_time": "2024-07-31T18:56:33.351Z"
   },
   {
    "duration": 19,
    "start_time": "2024-07-31T18:57:12.260Z"
   },
   {
    "duration": 19,
    "start_time": "2024-07-31T18:57:19.252Z"
   },
   {
    "duration": 109,
    "start_time": "2024-07-31T18:57:28.498Z"
   },
   {
    "duration": 110,
    "start_time": "2024-07-31T18:58:14.589Z"
   },
   {
    "duration": 110,
    "start_time": "2024-07-31T18:58:25.421Z"
   },
   {
    "duration": 37,
    "start_time": "2024-07-31T19:00:22.799Z"
   },
   {
    "duration": 119,
    "start_time": "2024-07-31T19:00:33.603Z"
   },
   {
    "duration": 226,
    "start_time": "2024-07-31T19:00:40.110Z"
   },
   {
    "duration": 17,
    "start_time": "2024-07-31T19:01:30.146Z"
   },
   {
    "duration": 27,
    "start_time": "2024-07-31T19:01:52.315Z"
   },
   {
    "duration": 34,
    "start_time": "2024-07-31T19:02:02.528Z"
   },
   {
    "duration": 42,
    "start_time": "2024-07-31T19:02:48.012Z"
   },
   {
    "duration": 14,
    "start_time": "2024-07-31T19:02:58.962Z"
   },
   {
    "duration": 22,
    "start_time": "2024-07-31T19:03:12.732Z"
   },
   {
    "duration": 24,
    "start_time": "2024-07-31T19:06:09.568Z"
   },
   {
    "duration": 35,
    "start_time": "2024-07-31T19:06:23.512Z"
   },
   {
    "duration": 35,
    "start_time": "2024-07-31T19:06:31.499Z"
   },
   {
    "duration": 35,
    "start_time": "2024-07-31T19:06:35.350Z"
   },
   {
    "duration": 67,
    "start_time": "2024-07-31T19:06:38.947Z"
   },
   {
    "duration": 6,
    "start_time": "2024-07-31T19:06:57.469Z"
   },
   {
    "duration": 9,
    "start_time": "2024-07-31T19:06:59.384Z"
   },
   {
    "duration": 21,
    "start_time": "2024-07-31T19:07:03.953Z"
   },
   {
    "duration": 7,
    "start_time": "2024-07-31T19:07:11.294Z"
   },
   {
    "duration": 29,
    "start_time": "2024-07-31T19:07:14.017Z"
   },
   {
    "duration": 34,
    "start_time": "2024-07-31T19:07:25.400Z"
   },
   {
    "duration": 6,
    "start_time": "2024-07-31T19:07:37.320Z"
   },
   {
    "duration": 1199,
    "start_time": "2024-07-31T19:07:41.240Z"
   },
   {
    "duration": 13,
    "start_time": "2024-07-31T19:07:46.262Z"
   },
   {
    "duration": 9,
    "start_time": "2024-07-31T19:07:50.077Z"
   },
   {
    "duration": 19,
    "start_time": "2024-07-31T19:10:03.533Z"
   },
   {
    "duration": 272,
    "start_time": "2024-07-31T19:10:22.367Z"
   },
   {
    "duration": 26,
    "start_time": "2024-07-31T19:11:48.465Z"
   },
   {
    "duration": 14,
    "start_time": "2024-07-31T19:11:59.572Z"
   },
   {
    "duration": 35,
    "start_time": "2024-07-31T19:23:52.243Z"
   },
   {
    "duration": 32,
    "start_time": "2024-07-31T19:26:42.110Z"
   },
   {
    "duration": 9,
    "start_time": "2024-07-31T19:26:53.430Z"
   },
   {
    "duration": 19,
    "start_time": "2024-07-31T19:26:57.566Z"
   },
   {
    "duration": 36,
    "start_time": "2024-07-31T19:27:17.205Z"
   },
   {
    "duration": 34,
    "start_time": "2024-07-31T19:27:31.189Z"
   },
   {
    "duration": 19,
    "start_time": "2024-07-31T19:27:50.066Z"
   },
   {
    "duration": 1407,
    "start_time": "2024-07-31T19:27:55.796Z"
   },
   {
    "duration": 10,
    "start_time": "2024-07-31T19:27:57.415Z"
   },
   {
    "duration": 7,
    "start_time": "2024-07-31T19:28:08.195Z"
   },
   {
    "duration": 35,
    "start_time": "2024-07-31T19:28:10.684Z"
   },
   {
    "duration": 31,
    "start_time": "2024-07-31T19:28:17.461Z"
   },
   {
    "duration": 5,
    "start_time": "2024-07-31T19:28:21.780Z"
   },
   {
    "duration": 10,
    "start_time": "2024-07-31T19:28:24.832Z"
   },
   {
    "duration": 23,
    "start_time": "2024-07-31T19:28:33.621Z"
   },
   {
    "duration": 23,
    "start_time": "2024-07-31T19:30:27.822Z"
   },
   {
    "duration": 22,
    "start_time": "2024-07-31T19:30:39.252Z"
   },
   {
    "duration": 19,
    "start_time": "2024-07-31T19:30:46.474Z"
   },
   {
    "duration": 24,
    "start_time": "2024-07-31T19:30:50.383Z"
   },
   {
    "duration": 586,
    "start_time": "2024-07-31T19:31:29.588Z"
   },
   {
    "duration": 7,
    "start_time": "2024-07-31T19:31:39.916Z"
   },
   {
    "duration": 34,
    "start_time": "2024-07-31T19:31:41.530Z"
   },
   {
    "duration": 20,
    "start_time": "2024-07-31T19:31:42.883Z"
   },
   {
    "duration": 6,
    "start_time": "2024-07-31T19:31:45.095Z"
   },
   {
    "duration": 10,
    "start_time": "2024-07-31T19:31:46.337Z"
   },
   {
    "duration": 22,
    "start_time": "2024-07-31T19:31:47.869Z"
   },
   {
    "duration": 107,
    "start_time": "2024-07-31T19:32:21.323Z"
   },
   {
    "duration": 32,
    "start_time": "2024-07-31T19:32:43.451Z"
   },
   {
    "duration": 96,
    "start_time": "2024-07-31T19:32:51.536Z"
   },
   {
    "duration": 6,
    "start_time": "2024-07-31T19:39:27.875Z"
   },
   {
    "duration": 38,
    "start_time": "2024-07-31T19:39:30.212Z"
   },
   {
    "duration": 20,
    "start_time": "2024-07-31T19:39:35.899Z"
   },
   {
    "duration": 6,
    "start_time": "2024-07-31T19:39:39.141Z"
   },
   {
    "duration": 3,
    "start_time": "2024-07-31T19:39:50.418Z"
   },
   {
    "duration": 3,
    "start_time": "2024-07-31T19:39:52.780Z"
   },
   {
    "duration": 6,
    "start_time": "2024-07-31T19:40:01.562Z"
   },
   {
    "duration": 29,
    "start_time": "2024-07-31T19:40:04.498Z"
   },
   {
    "duration": 38,
    "start_time": "2024-07-31T19:40:10.562Z"
   },
   {
    "duration": 9,
    "start_time": "2024-07-31T19:40:54.514Z"
   },
   {
    "duration": 19,
    "start_time": "2024-07-31T19:40:56.824Z"
   },
   {
    "duration": 6,
    "start_time": "2024-07-31T19:41:06.597Z"
   },
   {
    "duration": 21,
    "start_time": "2024-07-31T19:43:29.778Z"
   },
   {
    "duration": 1053,
    "start_time": "2024-07-31T19:43:40.341Z"
   },
   {
    "duration": 13,
    "start_time": "2024-07-31T19:43:44.379Z"
   },
   {
    "duration": 14,
    "start_time": "2024-07-31T19:43:46.544Z"
   },
   {
    "duration": 62,
    "start_time": "2024-07-31T19:43:48.660Z"
   },
   {
    "duration": 52,
    "start_time": "2024-07-31T19:44:01.222Z"
   },
   {
    "duration": 17,
    "start_time": "2024-07-31T19:44:24.765Z"
   },
   {
    "duration": 61,
    "start_time": "2024-07-31T19:44:38.201Z"
   },
   {
    "duration": 1757,
    "start_time": "2024-07-31T19:45:02.590Z"
   },
   {
    "duration": 36,
    "start_time": "2024-07-31T19:45:04.352Z"
   },
   {
    "duration": 42,
    "start_time": "2024-07-31T19:45:04.391Z"
   },
   {
    "duration": 7,
    "start_time": "2024-07-31T19:45:04.436Z"
   },
   {
    "duration": 7,
    "start_time": "2024-07-31T19:45:04.449Z"
   },
   {
    "duration": 66,
    "start_time": "2024-07-31T19:45:04.459Z"
   },
   {
    "duration": 39,
    "start_time": "2024-07-31T19:45:04.529Z"
   },
   {
    "duration": 10,
    "start_time": "2024-07-31T19:45:04.571Z"
   },
   {
    "duration": 56,
    "start_time": "2024-07-31T19:45:04.584Z"
   },
   {
    "duration": 5,
    "start_time": "2024-07-31T19:45:04.643Z"
   },
   {
    "duration": 1144,
    "start_time": "2024-07-31T19:45:04.651Z"
   },
   {
    "duration": 14,
    "start_time": "2024-07-31T19:45:05.798Z"
   },
   {
    "duration": 12,
    "start_time": "2024-07-31T19:45:05.815Z"
   },
   {
    "duration": 18,
    "start_time": "2024-07-31T19:45:05.833Z"
   },
   {
    "duration": 296,
    "start_time": "2024-07-31T19:45:05.854Z"
   },
   {
    "duration": 0,
    "start_time": "2024-07-31T19:45:06.153Z"
   },
   {
    "duration": 0,
    "start_time": "2024-07-31T19:45:06.155Z"
   },
   {
    "duration": 0,
    "start_time": "2024-07-31T19:45:06.157Z"
   },
   {
    "duration": 0,
    "start_time": "2024-07-31T19:45:06.159Z"
   },
   {
    "duration": 0,
    "start_time": "2024-07-31T19:45:06.162Z"
   },
   {
    "duration": 0,
    "start_time": "2024-07-31T19:45:06.163Z"
   },
   {
    "duration": 20,
    "start_time": "2024-07-31T19:46:44.250Z"
   },
   {
    "duration": 11,
    "start_time": "2024-07-31T19:47:04.035Z"
   },
   {
    "duration": 9,
    "start_time": "2024-07-31T19:47:06.123Z"
   },
   {
    "duration": 17,
    "start_time": "2024-07-31T19:47:08.086Z"
   },
   {
    "duration": 62,
    "start_time": "2024-07-31T19:47:10.666Z"
   },
   {
    "duration": 1259,
    "start_time": "2024-07-31T19:47:38.779Z"
   },
   {
    "duration": 10,
    "start_time": "2024-07-31T19:47:49.228Z"
   },
   {
    "duration": 1724,
    "start_time": "2024-07-31T19:48:01.469Z"
   },
   {
    "duration": 47,
    "start_time": "2024-07-31T19:48:03.196Z"
   },
   {
    "duration": 30,
    "start_time": "2024-07-31T19:48:03.245Z"
   },
   {
    "duration": 6,
    "start_time": "2024-07-31T19:48:03.278Z"
   },
   {
    "duration": 34,
    "start_time": "2024-07-31T19:48:03.289Z"
   },
   {
    "duration": 31,
    "start_time": "2024-07-31T19:48:03.325Z"
   },
   {
    "duration": 71,
    "start_time": "2024-07-31T19:48:03.359Z"
   },
   {
    "duration": 9,
    "start_time": "2024-07-31T19:48:03.434Z"
   },
   {
    "duration": 20,
    "start_time": "2024-07-31T19:48:03.446Z"
   },
   {
    "duration": 6,
    "start_time": "2024-07-31T19:48:03.468Z"
   },
   {
    "duration": 1253,
    "start_time": "2024-07-31T19:48:03.478Z"
   },
   {
    "duration": 12,
    "start_time": "2024-07-31T19:48:04.735Z"
   },
   {
    "duration": 10,
    "start_time": "2024-07-31T19:48:04.750Z"
   },
   {
    "duration": 17,
    "start_time": "2024-07-31T19:48:04.766Z"
   },
   {
    "duration": 1347,
    "start_time": "2024-07-31T19:48:04.786Z"
   },
   {
    "duration": 1197,
    "start_time": "2024-07-31T19:48:06.136Z"
   },
   {
    "duration": 88,
    "start_time": "2024-07-31T19:48:07.336Z"
   },
   {
    "duration": 1533,
    "start_time": "2024-07-31T19:48:07.427Z"
   },
   {
    "duration": 55,
    "start_time": "2024-07-31T19:48:08.968Z"
   },
   {
    "duration": 3368,
    "start_time": "2024-07-31T19:48:09.032Z"
   },
   {
    "duration": 5261,
    "start_time": "2024-07-31T19:48:12.403Z"
   },
   {
    "duration": 3997,
    "start_time": "2024-07-31T19:50:00.092Z"
   },
   {
    "duration": 4601,
    "start_time": "2024-07-31T19:50:16.954Z"
   },
   {
    "duration": 3982,
    "start_time": "2024-07-31T19:50:40.692Z"
   },
   {
    "duration": 4379,
    "start_time": "2024-07-31T19:50:50.734Z"
   },
   {
    "duration": 4058,
    "start_time": "2024-07-31T19:51:13.629Z"
   },
   {
    "duration": 4348,
    "start_time": "2024-07-31T19:51:26.064Z"
   },
   {
    "duration": 334,
    "start_time": "2024-07-31T20:39:21.796Z"
   },
   {
    "duration": 5649,
    "start_time": "2024-07-31T20:39:30.633Z"
   },
   {
    "duration": 53,
    "start_time": "2024-07-31T20:39:36.286Z"
   },
   {
    "duration": 30,
    "start_time": "2024-07-31T20:39:36.346Z"
   },
   {
    "duration": 23,
    "start_time": "2024-07-31T20:39:36.381Z"
   },
   {
    "duration": 12,
    "start_time": "2024-07-31T20:39:36.410Z"
   },
   {
    "duration": 34,
    "start_time": "2024-07-31T20:39:36.424Z"
   },
   {
    "duration": 82,
    "start_time": "2024-07-31T20:39:36.461Z"
   },
   {
    "duration": 10,
    "start_time": "2024-07-31T20:39:36.546Z"
   },
   {
    "duration": 54,
    "start_time": "2024-07-31T20:39:36.560Z"
   },
   {
    "duration": 7,
    "start_time": "2024-07-31T20:39:36.618Z"
   },
   {
    "duration": 1309,
    "start_time": "2024-07-31T20:39:36.629Z"
   },
   {
    "duration": 14,
    "start_time": "2024-07-31T20:39:37.942Z"
   },
   {
    "duration": 10,
    "start_time": "2024-07-31T20:39:37.959Z"
   },
   {
    "duration": 40,
    "start_time": "2024-07-31T20:39:37.977Z"
   },
   {
    "duration": 1309,
    "start_time": "2024-07-31T20:39:38.019Z"
   },
   {
    "duration": 1279,
    "start_time": "2024-07-31T20:39:39.332Z"
   },
   {
    "duration": 91,
    "start_time": "2024-07-31T20:39:40.615Z"
   },
   {
    "duration": 1519,
    "start_time": "2024-07-31T20:39:40.709Z"
   },
   {
    "duration": 4,
    "start_time": "2024-07-31T20:39:42.232Z"
   },
   {
    "duration": 3507,
    "start_time": "2024-07-31T20:39:42.240Z"
   },
   {
    "duration": 4562,
    "start_time": "2024-07-31T20:39:45.750Z"
   },
   {
    "duration": 3390,
    "start_time": "2024-07-31T20:40:40.755Z"
   },
   {
    "duration": 3427,
    "start_time": "2024-07-31T20:40:52.019Z"
   },
   {
    "duration": 4527,
    "start_time": "2024-07-31T20:41:25.663Z"
   },
   {
    "duration": 318,
    "start_time": "2024-08-01T01:59:56.469Z"
   },
   {
    "duration": 8,
    "start_time": "2024-08-01T02:00:07.128Z"
   },
   {
    "duration": 48,
    "start_time": "2024-08-01T02:00:07.140Z"
   },
   {
    "duration": 26,
    "start_time": "2024-08-01T02:00:07.192Z"
   },
   {
    "duration": 6,
    "start_time": "2024-08-01T02:00:07.235Z"
   },
   {
    "duration": 7,
    "start_time": "2024-08-01T02:00:07.244Z"
   },
   {
    "duration": 42,
    "start_time": "2024-08-01T02:00:07.254Z"
   },
   {
    "duration": 67,
    "start_time": "2024-08-01T02:00:07.299Z"
   },
   {
    "duration": 9,
    "start_time": "2024-08-01T02:00:07.369Z"
   },
   {
    "duration": 17,
    "start_time": "2024-08-01T02:00:07.383Z"
   },
   {
    "duration": 7,
    "start_time": "2024-08-01T02:00:07.434Z"
   },
   {
    "duration": 1211,
    "start_time": "2024-08-01T02:00:07.444Z"
   },
   {
    "duration": 12,
    "start_time": "2024-08-01T02:00:08.658Z"
   },
   {
    "duration": 10,
    "start_time": "2024-08-01T02:00:08.673Z"
   },
   {
    "duration": 17,
    "start_time": "2024-08-01T02:00:08.686Z"
   },
   {
    "duration": 631,
    "start_time": "2024-08-01T02:00:08.706Z"
   },
   {
    "duration": 0,
    "start_time": "2024-08-01T02:00:09.340Z"
   },
   {
    "duration": 0,
    "start_time": "2024-08-01T02:00:09.342Z"
   },
   {
    "duration": 0,
    "start_time": "2024-08-01T02:00:09.344Z"
   },
   {
    "duration": 0,
    "start_time": "2024-08-01T02:00:09.345Z"
   },
   {
    "duration": 0,
    "start_time": "2024-08-01T02:00:09.347Z"
   },
   {
    "duration": 0,
    "start_time": "2024-08-01T02:00:09.349Z"
   },
   {
    "duration": 18,
    "start_time": "2024-08-01T02:00:28.484Z"
   },
   {
    "duration": 21,
    "start_time": "2024-08-01T02:00:51.447Z"
   },
   {
    "duration": 6,
    "start_time": "2024-08-01T02:00:56.488Z"
   },
   {
    "duration": 1066,
    "start_time": "2024-08-01T02:00:59.075Z"
   },
   {
    "duration": 13,
    "start_time": "2024-08-01T02:01:03.309Z"
   },
   {
    "duration": 10,
    "start_time": "2024-08-01T02:01:05.571Z"
   },
   {
    "duration": 19,
    "start_time": "2024-08-01T02:01:07.506Z"
   },
   {
    "duration": 306,
    "start_time": "2024-08-01T15:24:05.643Z"
   },
   {
    "duration": 24,
    "start_time": "2024-08-01T15:24:54.104Z"
   },
   {
    "duration": 1775,
    "start_time": "2024-08-01T15:25:00.207Z"
   },
   {
    "duration": 36,
    "start_time": "2024-08-01T15:25:01.985Z"
   },
   {
    "duration": 25,
    "start_time": "2024-08-01T15:25:03.346Z"
   },
   {
    "duration": 5,
    "start_time": "2024-08-01T15:25:06.084Z"
   },
   {
    "duration": 7,
    "start_time": "2024-08-01T15:25:10.105Z"
   },
   {
    "duration": 31,
    "start_time": "2024-08-01T15:25:12.846Z"
   },
   {
    "duration": 40,
    "start_time": "2024-08-01T15:25:16.158Z"
   },
   {
    "duration": 9,
    "start_time": "2024-08-01T15:25:21.951Z"
   },
   {
    "duration": 5,
    "start_time": "2024-08-01T15:25:55.935Z"
   },
   {
    "duration": 7,
    "start_time": "2024-08-01T15:26:01.044Z"
   },
   {
    "duration": 18,
    "start_time": "2024-08-01T15:26:07.480Z"
   },
   {
    "duration": 154,
    "start_time": "2024-08-01T15:26:21.411Z"
   },
   {
    "duration": 24,
    "start_time": "2024-08-01T15:27:19.714Z"
   },
   {
    "duration": 28,
    "start_time": "2024-08-01T15:27:25.256Z"
   },
   {
    "duration": 12,
    "start_time": "2024-08-01T15:27:36.896Z"
   },
   {
    "duration": 7,
    "start_time": "2024-08-01T15:27:41.106Z"
   },
   {
    "duration": 34,
    "start_time": "2024-08-01T15:27:42.356Z"
   },
   {
    "duration": 33,
    "start_time": "2024-08-01T15:27:43.654Z"
   },
   {
    "duration": 7,
    "start_time": "2024-08-01T15:27:45.560Z"
   },
   {
    "duration": 7,
    "start_time": "2024-08-01T15:27:47.569Z"
   },
   {
    "duration": 30,
    "start_time": "2024-08-01T15:27:49.110Z"
   },
   {
    "duration": 37,
    "start_time": "2024-08-01T15:27:49.927Z"
   },
   {
    "duration": 9,
    "start_time": "2024-08-01T15:27:52.770Z"
   },
   {
    "duration": 18,
    "start_time": "2024-08-01T15:27:54.186Z"
   },
   {
    "duration": 6,
    "start_time": "2024-08-01T15:27:55.270Z"
   },
   {
    "duration": 1168,
    "start_time": "2024-08-01T15:27:58.653Z"
   },
   {
    "duration": 13,
    "start_time": "2024-08-01T15:28:04.187Z"
   },
   {
    "duration": 10,
    "start_time": "2024-08-01T15:28:05.680Z"
   },
   {
    "duration": 15,
    "start_time": "2024-08-01T15:28:07.766Z"
   },
   {
    "duration": 39,
    "start_time": "2024-08-01T15:30:30.462Z"
   },
   {
    "duration": 18,
    "start_time": "2024-08-01T15:31:20.982Z"
   },
   {
    "duration": 16,
    "start_time": "2024-08-01T15:31:31.506Z"
   },
   {
    "duration": 1236,
    "start_time": "2024-08-01T15:31:34.730Z"
   },
   {
    "duration": 1223,
    "start_time": "2024-08-01T15:35:18.428Z"
   },
   {
    "duration": 7,
    "start_time": "2024-08-01T15:36:10.626Z"
   },
   {
    "duration": 36,
    "start_time": "2024-08-01T15:36:11.998Z"
   },
   {
    "duration": 21,
    "start_time": "2024-08-01T15:36:15.220Z"
   },
   {
    "duration": 6,
    "start_time": "2024-08-01T15:36:17.947Z"
   },
   {
    "duration": 7,
    "start_time": "2024-08-01T15:36:20.416Z"
   },
   {
    "duration": 30,
    "start_time": "2024-08-01T15:36:23.093Z"
   },
   {
    "duration": 41,
    "start_time": "2024-08-01T15:36:24.895Z"
   },
   {
    "duration": 9,
    "start_time": "2024-08-01T15:36:33.799Z"
   },
   {
    "duration": 19,
    "start_time": "2024-08-01T15:36:35.416Z"
   },
   {
    "duration": 5,
    "start_time": "2024-08-01T15:36:36.753Z"
   },
   {
    "duration": 1210,
    "start_time": "2024-08-01T15:36:41.077Z"
   },
   {
    "duration": 12,
    "start_time": "2024-08-01T15:36:48.138Z"
   },
   {
    "duration": 10,
    "start_time": "2024-08-01T15:36:49.862Z"
   },
   {
    "duration": 16,
    "start_time": "2024-08-01T15:37:09.771Z"
   },
   {
    "duration": 26,
    "start_time": "2024-08-01T15:37:21.900Z"
   },
   {
    "duration": 16,
    "start_time": "2024-08-01T15:37:29.815Z"
   },
   {
    "duration": 1260,
    "start_time": "2024-08-01T15:37:32.308Z"
   },
   {
    "duration": 39,
    "start_time": "2024-08-01T15:37:40.024Z"
   },
   {
    "duration": 9,
    "start_time": "2024-08-01T15:37:51.835Z"
   },
   {
    "duration": 17,
    "start_time": "2024-08-01T15:37:52.535Z"
   },
   {
    "duration": 1187,
    "start_time": "2024-08-01T15:37:58.278Z"
   },
   {
    "duration": 36,
    "start_time": "2024-08-01T15:37:59.983Z"
   },
   {
    "duration": 9,
    "start_time": "2024-08-01T15:38:25.084Z"
   },
   {
    "duration": 8,
    "start_time": "2024-08-01T15:38:43.447Z"
   },
   {
    "duration": 4,
    "start_time": "2024-08-01T15:38:45.291Z"
   },
   {
    "duration": 33,
    "start_time": "2024-08-01T15:39:01.216Z"
   },
   {
    "duration": 35,
    "start_time": "2024-08-01T15:39:31.446Z"
   },
   {
    "duration": 7,
    "start_time": "2024-08-01T15:39:38.060Z"
   },
   {
    "duration": 34,
    "start_time": "2024-08-01T15:39:38.071Z"
   },
   {
    "duration": 25,
    "start_time": "2024-08-01T15:39:38.108Z"
   },
   {
    "duration": 6,
    "start_time": "2024-08-01T15:39:38.135Z"
   },
   {
    "duration": 6,
    "start_time": "2024-08-01T15:39:38.146Z"
   },
   {
    "duration": 32,
    "start_time": "2024-08-01T15:39:38.155Z"
   },
   {
    "duration": 78,
    "start_time": "2024-08-01T15:39:38.190Z"
   },
   {
    "duration": 10,
    "start_time": "2024-08-01T15:39:38.270Z"
   },
   {
    "duration": 51,
    "start_time": "2024-08-01T15:39:38.282Z"
   },
   {
    "duration": 7,
    "start_time": "2024-08-01T15:39:38.336Z"
   },
   {
    "duration": 1147,
    "start_time": "2024-08-01T15:39:38.346Z"
   },
   {
    "duration": 16,
    "start_time": "2024-08-01T15:39:39.497Z"
   },
   {
    "duration": 10,
    "start_time": "2024-08-01T15:39:39.533Z"
   },
   {
    "duration": 4,
    "start_time": "2024-08-01T15:39:39.548Z"
   },
   {
    "duration": 35,
    "start_time": "2024-08-01T15:39:39.555Z"
   },
   {
    "duration": 0,
    "start_time": "2024-08-01T15:39:39.593Z"
   },
   {
    "duration": 0,
    "start_time": "2024-08-01T15:39:39.595Z"
   },
   {
    "duration": 0,
    "start_time": "2024-08-01T15:39:39.596Z"
   },
   {
    "duration": 0,
    "start_time": "2024-08-01T15:39:39.597Z"
   },
   {
    "duration": 0,
    "start_time": "2024-08-01T15:39:39.598Z"
   },
   {
    "duration": 0,
    "start_time": "2024-08-01T15:39:39.599Z"
   },
   {
    "duration": 1276,
    "start_time": "2024-08-01T15:40:03.376Z"
   },
   {
    "duration": 41,
    "start_time": "2024-08-01T15:40:30.709Z"
   },
   {
    "duration": 17,
    "start_time": "2024-08-01T15:40:37.584Z"
   },
   {
    "duration": 1240,
    "start_time": "2024-08-01T15:40:40.799Z"
   },
   {
    "duration": 1243,
    "start_time": "2024-08-01T15:40:46.416Z"
   },
   {
    "duration": 1049,
    "start_time": "2024-08-01T15:42:42.358Z"
   },
   {
    "duration": 24,
    "start_time": "2024-08-01T15:42:48.316Z"
   },
   {
    "duration": 1484,
    "start_time": "2024-08-01T15:42:50.668Z"
   },
   {
    "duration": 3257,
    "start_time": "2024-08-01T15:43:11.702Z"
   },
   {
    "duration": 3245,
    "start_time": "2024-08-01T15:43:45.533Z"
   },
   {
    "duration": 4334,
    "start_time": "2024-08-01T15:44:11.719Z"
   },
   {
    "duration": 16,
    "start_time": "2024-08-01T20:36:14.783Z"
   },
   {
    "duration": 350,
    "start_time": "2024-08-01T20:37:01.807Z"
   },
   {
    "duration": 5567,
    "start_time": "2024-08-01T20:37:12.650Z"
   },
   {
    "duration": 50,
    "start_time": "2024-08-01T20:37:18.222Z"
   },
   {
    "duration": 40,
    "start_time": "2024-08-01T20:37:18.275Z"
   },
   {
    "duration": 6,
    "start_time": "2024-08-01T20:37:18.319Z"
   },
   {
    "duration": 7,
    "start_time": "2024-08-01T20:37:18.329Z"
   },
   {
    "duration": 66,
    "start_time": "2024-08-01T20:37:18.340Z"
   },
   {
    "duration": 42,
    "start_time": "2024-08-01T20:37:18.410Z"
   },
   {
    "duration": 48,
    "start_time": "2024-08-01T20:37:18.455Z"
   },
   {
    "duration": 20,
    "start_time": "2024-08-01T20:37:18.506Z"
   },
   {
    "duration": 7,
    "start_time": "2024-08-01T20:37:18.531Z"
   },
   {
    "duration": 1308,
    "start_time": "2024-08-01T20:37:18.542Z"
   },
   {
    "duration": 13,
    "start_time": "2024-08-01T20:37:19.854Z"
   },
   {
    "duration": 11,
    "start_time": "2024-08-01T20:37:19.871Z"
   },
   {
    "duration": 30,
    "start_time": "2024-08-01T20:37:19.885Z"
   },
   {
    "duration": 1606,
    "start_time": "2024-08-01T20:37:19.918Z"
   },
   {
    "duration": 0,
    "start_time": "2024-08-01T20:37:21.527Z"
   },
   {
    "duration": 0,
    "start_time": "2024-08-01T20:37:21.528Z"
   },
   {
    "duration": 0,
    "start_time": "2024-08-01T20:37:21.531Z"
   },
   {
    "duration": 0,
    "start_time": "2024-08-01T20:37:21.533Z"
   },
   {
    "duration": 0,
    "start_time": "2024-08-01T20:37:21.535Z"
   },
   {
    "duration": 0,
    "start_time": "2024-08-01T20:37:21.537Z"
   },
   {
    "duration": 0,
    "start_time": "2024-08-01T20:37:21.540Z"
   },
   {
    "duration": 1236,
    "start_time": "2024-08-01T20:38:28.505Z"
   },
   {
    "duration": 1252,
    "start_time": "2024-08-01T20:39:19.063Z"
   },
   {
    "duration": 1296,
    "start_time": "2024-08-01T20:39:28.137Z"
   },
   {
    "duration": 1089,
    "start_time": "2024-08-01T20:39:48.816Z"
   },
   {
    "duration": 27,
    "start_time": "2024-08-01T20:40:07.812Z"
   },
   {
    "duration": 1506,
    "start_time": "2024-08-01T20:40:12.704Z"
   },
   {
    "duration": 3374,
    "start_time": "2024-08-01T20:41:18.933Z"
   },
   {
    "duration": 4729,
    "start_time": "2024-08-01T20:42:48.727Z"
   },
   {
    "duration": 306,
    "start_time": "2024-08-02T01:37:09.068Z"
   },
   {
    "duration": 5527,
    "start_time": "2024-08-02T01:37:13.464Z"
   },
   {
    "duration": 49,
    "start_time": "2024-08-02T01:37:18.995Z"
   },
   {
    "duration": 24,
    "start_time": "2024-08-02T01:37:19.048Z"
   },
   {
    "duration": 5,
    "start_time": "2024-08-02T01:37:19.077Z"
   },
   {
    "duration": 10,
    "start_time": "2024-08-02T01:37:21.241Z"
   },
   {
    "duration": 151,
    "start_time": "2024-08-02T01:37:23.442Z"
   },
   {
    "duration": 24,
    "start_time": "2024-08-02T01:37:33.639Z"
   },
   {
    "duration": 23,
    "start_time": "2024-08-02T01:37:40.277Z"
   },
   {
    "duration": 6,
    "start_time": "2024-08-02T01:37:47.029Z"
   },
   {
    "duration": 11,
    "start_time": "2024-08-02T01:38:00.224Z"
   },
   {
    "duration": 8,
    "start_time": "2024-08-02T01:39:04.584Z"
   },
   {
    "duration": 37,
    "start_time": "2024-08-02T01:39:07.766Z"
   },
   {
    "duration": 39,
    "start_time": "2024-08-02T01:39:08.938Z"
   },
   {
    "duration": 6,
    "start_time": "2024-08-02T01:39:20.140Z"
   },
   {
    "duration": 1253,
    "start_time": "2024-08-02T01:39:23.456Z"
   },
   {
    "duration": 12,
    "start_time": "2024-08-02T01:39:29.383Z"
   },
   {
    "duration": 10,
    "start_time": "2024-08-02T01:39:31.681Z"
   },
   {
    "duration": 19,
    "start_time": "2024-08-02T01:39:33.744Z"
   },
   {
    "duration": 17,
    "start_time": "2024-08-02T01:39:42.961Z"
   },
   {
    "duration": 1205,
    "start_time": "2024-08-02T01:39:59.624Z"
   },
   {
    "duration": 1289,
    "start_time": "2024-08-02T01:40:16.846Z"
   },
   {
    "duration": 1085,
    "start_time": "2024-08-02T01:40:35.026Z"
   },
   {
    "duration": 25,
    "start_time": "2024-08-02T01:40:39.797Z"
   },
   {
    "duration": 1522,
    "start_time": "2024-08-02T01:40:43.314Z"
   },
   {
    "duration": 4,
    "start_time": "2024-08-02T01:40:53.018Z"
   },
   {
    "duration": 4482,
    "start_time": "2024-08-02T01:40:55.515Z"
   },
   {
    "duration": 8,
    "start_time": "2024-08-02T01:44:56.301Z"
   },
   {
    "duration": 35,
    "start_time": "2024-08-02T01:44:56.313Z"
   },
   {
    "duration": 21,
    "start_time": "2024-08-02T01:44:56.351Z"
   },
   {
    "duration": 36,
    "start_time": "2024-08-02T01:44:56.375Z"
   },
   {
    "duration": 11,
    "start_time": "2024-08-02T01:44:56.415Z"
   },
   {
    "duration": 13,
    "start_time": "2024-08-02T01:44:56.428Z"
   },
   {
    "duration": 8,
    "start_time": "2024-08-02T01:44:56.444Z"
   },
   {
    "duration": 81,
    "start_time": "2024-08-02T01:44:56.455Z"
   },
   {
    "duration": 39,
    "start_time": "2024-08-02T01:44:56.540Z"
   },
   {
    "duration": 31,
    "start_time": "2024-08-02T01:44:56.581Z"
   },
   {
    "duration": 1274,
    "start_time": "2024-08-02T01:44:56.616Z"
   },
   {
    "duration": 21,
    "start_time": "2024-08-02T01:44:57.893Z"
   },
   {
    "duration": 10,
    "start_time": "2024-08-02T01:44:57.917Z"
   },
   {
    "duration": 17,
    "start_time": "2024-08-02T01:44:57.933Z"
   },
   {
    "duration": 1274,
    "start_time": "2024-08-02T01:44:57.953Z"
   },
   {
    "duration": 1409,
    "start_time": "2024-08-02T01:44:59.230Z"
   },
   {
    "duration": 1185,
    "start_time": "2024-08-02T01:45:00.642Z"
   },
   {
    "duration": 82,
    "start_time": "2024-08-02T01:45:01.831Z"
   },
   {
    "duration": 1551,
    "start_time": "2024-08-02T01:45:01.919Z"
   },
   {
    "duration": 35,
    "start_time": "2024-08-02T01:45:03.474Z"
   },
   {
    "duration": 4588,
    "start_time": "2024-08-02T01:45:03.513Z"
   }
  ],
  "kernelspec": {
   "display_name": "Python 3 (ipykernel)",
   "language": "python",
   "name": "python3"
  },
  "language_info": {
   "codemirror_mode": {
    "name": "ipython",
    "version": 3
   },
   "file_extension": ".py",
   "mimetype": "text/x-python",
   "name": "python",
   "nbconvert_exporter": "python",
   "pygments_lexer": "ipython3",
   "version": "3.9.19"
  },
  "toc": {
   "base_numbering": 1,
   "nav_menu": {},
   "number_sections": true,
   "sideBar": true,
   "skip_h1_title": true,
   "title_cell": "Table of Contents",
   "title_sidebar": "Contents",
   "toc_cell": false,
   "toc_position": {},
   "toc_section_display": true,
   "toc_window_display": false
  }
 },
 "nbformat": 4,
 "nbformat_minor": 2
}
